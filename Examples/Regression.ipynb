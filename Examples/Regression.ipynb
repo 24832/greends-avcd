{
 "cells": [
  {
   "attachments": {},
   "cell_type": "markdown",
   "metadata": {},
   "source": [
    "# Analysis and Visualization of Complex Agro-Environmental Data\n",
    "---\n",
    "## Regression\n",
    "\n",
    "### 1. Run simple linear regression\n",
    "\n",
    "Simple linear regression is the simplest form of regression analysis. It is also commonly used in Exploratory Data Analysis when we are interested in exploring if a given continuous response variable is affected by other independent (or predictor) variables. When we aim at modelling a response continuous variable with multiple linear regression using a big set of potential candidate variables, simple regression analysis is often used as a first filter to select a subset of candidate variables. Again, significant effect of a predictor on the response variable does not imply causation; but causation implies a significant an effect of a predictor on the response. Along with correlation analysis, regression is also important as a basis to establish hypothesis to be tested with more elaborated confirmatory statistics.\n",
    "\n",
    "Linear regression models may be run with several python modules such as SciPy, statsmodel and scikit-learn.\n",
    "\n",
    "##### Example with the Iris dataset"
   ]
  },
  {
   "cell_type": "code",
   "execution_count": null,
   "metadata": {},
   "outputs": [],
   "source": [
    "# import the packages we are going to be using\n",
    "import numpy as np # for getting our distribution\n",
    "import pandas as pd # to handle data frames\n",
    "import matplotlib.pyplot as plt # for plotting\n",
    "import seaborn as sns # for plotting\n",
    "from scipy import stats # to compute statistics\n",
    "\n",
    "# import data ('iris' dataset)\n",
    "data = sns.load_dataset('iris')\n",
    "print(data)"
   ]
  },
  {
   "cell_type": "code",
   "execution_count": null,
   "metadata": {},
   "outputs": [],
   "source": [
    "# Use the `Iris`dataset to relate petal width as function of sepal width\n",
    "\n",
    "x=data[\"petal_width\"]\n",
    "y=data[\"sepal_width\"]\n",
    "\n",
    "# Execute a method that returns some important key values of Linear Regression:\n",
    "slope, intercept, r, p, std_err = stats.linregress(x, y)\n",
    "\n",
    "# plot data with fitted line\n",
    "def myfunc(x):\n",
    "  return intercept + slope * x # function that returns fitted values\n",
    "\n",
    "mymodel = list(map(myfunc, x)) # apply function to each x value\n",
    "\n",
    "plt.scatter(x, y)\n",
    "plt.plot(x, mymodel)\n",
    "plt.show()"
   ]
  },
  {
   "cell_type": "code",
   "execution_count": null,
   "metadata": {},
   "outputs": [],
   "source": [
    "# Run the regression test\n",
    "print('slope estimate=%.2f, r=%.2f, p=%.6f' % (slope, r, p))\n",
    "alpha=0.05\n",
    "if p <= alpha:\n",
    " print('reject H0 that the slope of the relationship is = 0')\n",
    "else:\n",
    " print('fail to reject H0 that the slope of the relationship is = 0')"
   ]
  },
  {
   "cell_type": "code",
   "execution_count": null,
   "metadata": {},
   "outputs": [],
   "source": [
    "# using statsmodel instead - gives an extended output with much less code\n",
    "# Do not worry much about many of the outputs that you still not know about.\n",
    "\n",
    "import statsmodels.api as sm\n",
    "\n",
    "x = sm.add_constant(x) # adding a constant (Intercept)\n",
    "\n",
    "model = sm.OLS(y, x).fit()\n",
    "predictions = model.predict(x) \n",
    "\n",
    "print_model = model.summary()\n",
    "print(print_model)"
   ]
  },
  {
   "cell_type": "code",
   "execution_count": null,
   "metadata": {},
   "outputs": [],
   "source": [
    "# Now using sklearn\n",
    "\n",
    "import pandas as pd\n",
    "from sklearn import linear_model\n",
    "\n",
    "# with sklearn\n",
    "regr = linear_model.LinearRegression()\n",
    "regr.fit(x, y)\n",
    "\n",
    "print('Intercept: \\n', regr.intercept_)\n",
    "print('Coefficients: \\n', regr.coef_)"
   ]
  },
  {
   "cell_type": "code",
   "execution_count": null,
   "metadata": {},
   "outputs": [],
   "source": [
    "# same scatterplot but showing data per species\n",
    "sns.scatterplot(x=x, y=y, hue=data[\"species\"])\n",
    "plt.plot(x, mymodel)\n",
    "plt.show()"
   ]
  },
  {
   "cell_type": "code",
   "execution_count": null,
   "metadata": {},
   "outputs": [],
   "source": [
    "# Plot by group\n",
    "sns.lmplot(x='petal_width', y='sepal_width', hue=\"species\", data=data)"
   ]
  },
  {
   "cell_type": "code",
   "execution_count": null,
   "metadata": {},
   "outputs": [],
   "source": [
    "# Run same regression but only for the species 'versicolor'\n",
    "\n",
    "x=data[(data['species']=='versicolor')]['petal_width']\n",
    "y=data[(data['species']=='versicolor')]['sepal_width']\n",
    "\n",
    "# Execute a method that returns some important key values of Linear Regression:\n",
    "slope, intercept, r, p, std_err = stats.linregress(x, y)\n",
    "\n",
    "# plot data with fitted line\n",
    "def myfunc(x):\n",
    "  return intercept + slope * x # function that returns fitted values\n",
    "\n",
    "mymodel = list(map(myfunc, x)) # apply function to each x value\n",
    "\n",
    "plt.scatter(x, y)\n",
    "plt.plot(x, mymodel)\n",
    "plt.show()"
   ]
  },
  {
   "cell_type": "code",
   "execution_count": null,
   "metadata": {},
   "outputs": [],
   "source": [
    "# Model output table\n",
    "x = sm.add_constant(x) # adding a constant (Intercept)\n",
    "\n",
    "model = sm.OLS(y, x).fit()\n",
    "predictions = model.predict(x) \n",
    "\n",
    "print_model = model.summary()\n",
    "print(print_model)"
   ]
  }
 ],
 "metadata": {
  "kernelspec": {
   "display_name": "Python 3",
   "language": "python",
   "name": "python3"
  },
  "language_info": {
   "codemirror_mode": {
    "name": "ipython",
    "version": 3
   },
   "file_extension": ".py",
   "mimetype": "text/x-python",
   "name": "python",
   "nbconvert_exporter": "python",
   "pygments_lexer": "ipython3",
   "version": "3.11.2"
  },
  "orig_nbformat": 4
 },
 "nbformat": 4,
 "nbformat_minor": 2
}
