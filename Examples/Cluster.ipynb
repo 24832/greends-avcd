{
 "cells": [
  {
   "cell_type": "markdown",
   "metadata": {},
   "source": [
    "# Analysis and Visualization of Complex Agro-Environmental Data\n",
    "---\n",
    "## Cluster Analysis\n",
    "\n",
    "### 1. Agglomerative hierarchical clustering "
   ]
  },
  {
   "cell_type": "code",
   "execution_count": 2,
   "metadata": {},
   "outputs": [],
   "source": [
    "import numpy as np # for getting our distribution\n",
    "import pandas as pd # to handle data frames\n",
    "import matplotlib.pyplot as plt # for plotting\n",
    "import seaborn as sns # for plotting\n",
    "from scipy import stats # to compute statistics\n",
    "from scipy.cluster.hierarchy import dendrogram # to create dendrogram\n",
    "from scipy.cluster.hierarchy import linkage\n",
    "from sklearn.cluster import AgglomerativeClustering # to perform agglomerative clustering"
   ]
  },
  {
   "cell_type": "code",
   "execution_count": null,
   "metadata": {},
   "outputs": [],
   "source": [
    "# create a DataFrame\n",
    "df=pd.DataFrame({\"X\": [12,15,18,10,8,9,12,20,34,16,24,9], \"Y\": [6,16,17,8,7,6,9,18,23,14,19,7]})\n",
    "df"
   ]
  },
  {
   "cell_type": "code",
   "execution_count": null,
   "metadata": {},
   "outputs": [],
   "source": [
    "# Dendrogram with single linkage\n",
    "dendrogram_plot = dendrogram(linkage(df, method='single'))\n",
    "plt.title('single linkage' )\n",
    "plt.xlabel('objects')\n",
    "plt.ylabel('Distance')"
   ]
  },
  {
   "cell_type": "code",
   "execution_count": null,
   "metadata": {},
   "outputs": [],
   "source": [
    "# Dendrogram with complete linkage\n",
    "dendrogram_plot = dendrogram(linkage(df, method='complete'))\n",
    "plt.title('complete linkage' )\n",
    "plt.xlabel('objects')\n",
    "plt.ylabel('Distance')"
   ]
  },
  {
   "cell_type": "code",
   "execution_count": null,
   "metadata": {},
   "outputs": [],
   "source": [
    "# Dendrogram with average linkage\n",
    "dendrogram_plot = dendrogram(linkage(df, method='average'))\n",
    "plt.title('average linkage' )\n",
    "plt.xlabel('objects')\n",
    "plt.ylabel('Distance')"
   ]
  },
  {
   "cell_type": "code",
   "execution_count": null,
   "metadata": {},
   "outputs": [],
   "source": [
    "# Dendrogram with average linkage\n",
    "dendrogram_plot = dendrogram(linkage(df, method='centroid'))\n",
    "plt.title('centroid linkage' )\n",
    "plt.xlabel('objects')\n",
    "plt.ylabel('Distance')"
   ]
  },
  {
   "cell_type": "code",
   "execution_count": null,
   "metadata": {},
   "outputs": [],
   "source": [
    "# Dendrogram with Ward's linkage\n",
    "dendrogram_plot = dendrogram(linkage(df, method='ward'))\n",
    "plt.title('Ward linkage' )\n",
    "plt.xlabel('objects')\n",
    "plt.ylabel('Distance')"
   ]
  },
  {
   "cell_type": "code",
   "execution_count": null,
   "metadata": {},
   "outputs": [],
   "source": [
    "# Dendrogram with Ward's linkage with 90º rotation\n",
    "dendrogram_plot = dendrogram(linkage(df, method='ward'), orientation='right')\n",
    "plt.title('Ward linkage' )\n",
    "plt.xlabel('Distance')\n",
    "plt.ylabel('Objects')"
   ]
  },
  {
   "cell_type": "code",
   "execution_count": null,
   "metadata": {},
   "outputs": [],
   "source": [
    "# plot a heatmap with dendrogram by clustering rows using average linkage\n",
    "sns.clustermap(df, col_cluster=False, row_cluster=True, method='average')"
   ]
  }
 ],
 "metadata": {
  "kernelspec": {
   "display_name": "Python 3",
   "language": "python",
   "name": "python3"
  },
  "language_info": {
   "codemirror_mode": {
    "name": "ipython",
    "version": 3
   },
   "file_extension": ".py",
   "mimetype": "text/x-python",
   "name": "python",
   "nbconvert_exporter": "python",
   "pygments_lexer": "ipython3",
   "version": "3.11.2"
  },
  "orig_nbformat": 4
 },
 "nbformat": 4,
 "nbformat_minor": 2
}
