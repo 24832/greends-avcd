{
 "cells": [
  {
   "attachments": {},
   "cell_type": "markdown",
   "metadata": {},
   "source": [
    "# Analysis and Visualization of Complex Agro-Environmental Data\n",
    "---\n",
    "## Interactive visualization in python\n",
    "\n",
    "### 1. Bokeh\n",
    "\n",
    "`Bokeh` is a Python's module for interactive da visualizations. The plots are created by stacking layers on top of each other. The first step is to create an empty figure, to which elements are added in layers. These elements are known as glyphs, which can be anything from lines to bars to circles. Attached to each glyph are properties such as color, size and coordinates."
   ]
  },
  {
   "cell_type": "code",
   "execution_count": 1,
   "metadata": {},
   "outputs": [],
   "source": [
    "import numpy as np\n",
    "import pandas as pd\n",
    "import matplotlib.pyplot as plt\n"
   ]
  },
  {
   "attachments": {},
   "cell_type": "markdown",
   "metadata": {},
   "source": [
    "#### 1.1 Data preparation\n",
    "\n",
    "Download 2 datasets: (1) CO2 emissions per person per year per country and (2) GDP per year per country:"
   ]
  },
  {
   "cell_type": "code",
   "execution_count": 2,
   "metadata": {},
   "outputs": [],
   "source": [
    "url_co2 = 'https://raw.githubusercontent.com/TrainingByPackt/Interactive-Data-Visualization-with-Python/master/datasets/co2.csv'\n",
    "co2 = pd.read_csv(url_co2)\n",
    "url_gm = 'https://raw.githubusercontent.com/TrainingByPackt/Interactive-Data-Visualization-with-Python/master/datasets/gapminder.csv'\n",
    "gm = pd.read_csv(url_gm)"
   ]
  },
  {
   "attachments": {},
   "cell_type": "markdown",
   "metadata": {},
   "source": [
    "Transform the dataset - intersect datasets"
   ]
  },
  {
   "cell_type": "code",
   "execution_count": null,
   "metadata": {},
   "outputs": [],
   "source": [
    "# Drop duplicates in gm\n",
    "df_gm = gm[['Country', 'region']].drop_duplicates()\n",
    "# Combine the 2 datasets (merge by country)\n",
    "df_w_regions = pd.merge(co2, df_gm, left_on ='country', right_on ='Country', how ='inner') # intersection of both keys, keep order from 'left'\n",
    "# Drop one Country column\n",
    "df_w_regions = df_w_regions.drop('Country', axis='columns')\n",
    "df_w_regions.head()"
   ]
  },
  {
   "attachments": {},
   "cell_type": "markdown",
   "metadata": {},
   "source": [
    "Transform the dataset - stack by year"
   ]
  },
  {
   "cell_type": "code",
   "execution_count": 4,
   "metadata": {},
   "outputs": [
    {
     "data": {
      "text/html": [
       "<div>\n",
       "<style scoped>\n",
       "    .dataframe tbody tr th:only-of-type {\n",
       "        vertical-align: middle;\n",
       "    }\n",
       "\n",
       "    .dataframe tbody tr th {\n",
       "        vertical-align: top;\n",
       "    }\n",
       "\n",
       "    .dataframe thead th {\n",
       "        text-align: right;\n",
       "    }\n",
       "</style>\n",
       "<table border=\"1\" class=\"dataframe\">\n",
       "  <thead>\n",
       "    <tr style=\"text-align: right;\">\n",
       "      <th></th>\n",
       "      <th>country</th>\n",
       "      <th>region</th>\n",
       "      <th>year</th>\n",
       "      <th>co2</th>\n",
       "    </tr>\n",
       "  </thead>\n",
       "  <tbody>\n",
       "    <tr>\n",
       "      <th>28372</th>\n",
       "      <td>Afghanistan</td>\n",
       "      <td>South Asia</td>\n",
       "      <td>1964</td>\n",
       "      <td>0.0863</td>\n",
       "    </tr>\n",
       "    <tr>\n",
       "      <th>28545</th>\n",
       "      <td>Afghanistan</td>\n",
       "      <td>South Asia</td>\n",
       "      <td>1965</td>\n",
       "      <td>0.1010</td>\n",
       "    </tr>\n",
       "    <tr>\n",
       "      <th>28718</th>\n",
       "      <td>Afghanistan</td>\n",
       "      <td>South Asia</td>\n",
       "      <td>1966</td>\n",
       "      <td>0.1080</td>\n",
       "    </tr>\n",
       "    <tr>\n",
       "      <th>28891</th>\n",
       "      <td>Afghanistan</td>\n",
       "      <td>South Asia</td>\n",
       "      <td>1967</td>\n",
       "      <td>0.1240</td>\n",
       "    </tr>\n",
       "    <tr>\n",
       "      <th>29064</th>\n",
       "      <td>Afghanistan</td>\n",
       "      <td>South Asia</td>\n",
       "      <td>1968</td>\n",
       "      <td>0.1160</td>\n",
       "    </tr>\n",
       "  </tbody>\n",
       "</table>\n",
       "</div>"
      ],
      "text/plain": [
       "           country      region  year     co2\n",
       "28372  Afghanistan  South Asia  1964  0.0863\n",
       "28545  Afghanistan  South Asia  1965  0.1010\n",
       "28718  Afghanistan  South Asia  1966  0.1080\n",
       "28891  Afghanistan  South Asia  1967  0.1240\n",
       "29064  Afghanistan  South Asia  1968  0.1160"
      ]
     },
     "execution_count": 4,
     "metadata": {},
     "output_type": "execute_result"
    }
   ],
   "source": [
    "# change the format of the DataFrame into one that has identifier variables of our choice (here, country and region).\n",
    "new_co2 = pd.melt(df_w_regions, id_vars=['country', 'region'])\n",
    "columns = ['country', 'region', 'year', 'co2']\n",
    "new_co2.columns = columns\n",
    "# Select data from 1964 onwards, sort by country and then year\n",
    "df_co2 = new_co2[new_co2['year'].astype('int64') > 1963]\n",
    "df_co2 = df_co2.sort_values(by=['country', 'year'])\n",
    "df_co2['year'] = df_co2['year'].astype('int64')\n",
    "df_co2.head()\n"
   ]
  },
  {
   "attachments": {},
   "cell_type": "markdown",
   "metadata": {},
   "source": [
    "Create similar table for GDP per year per country"
   ]
  },
  {
   "cell_type": "code",
   "execution_count": 5,
   "metadata": {},
   "outputs": [
    {
     "data": {
      "text/html": [
       "<div>\n",
       "<style scoped>\n",
       "    .dataframe tbody tr th:only-of-type {\n",
       "        vertical-align: middle;\n",
       "    }\n",
       "\n",
       "    .dataframe tbody tr th {\n",
       "        vertical-align: top;\n",
       "    }\n",
       "\n",
       "    .dataframe thead th {\n",
       "        text-align: right;\n",
       "    }\n",
       "</style>\n",
       "<table border=\"1\" class=\"dataframe\">\n",
       "  <thead>\n",
       "    <tr style=\"text-align: right;\">\n",
       "      <th></th>\n",
       "      <th>country</th>\n",
       "      <th>year</th>\n",
       "      <th>gdp</th>\n",
       "    </tr>\n",
       "  </thead>\n",
       "  <tbody>\n",
       "    <tr>\n",
       "      <th>0</th>\n",
       "      <td>Afghanistan</td>\n",
       "      <td>1964</td>\n",
       "      <td>1182.0</td>\n",
       "    </tr>\n",
       "    <tr>\n",
       "      <th>1</th>\n",
       "      <td>Afghanistan</td>\n",
       "      <td>1965</td>\n",
       "      <td>1182.0</td>\n",
       "    </tr>\n",
       "    <tr>\n",
       "      <th>2</th>\n",
       "      <td>Afghanistan</td>\n",
       "      <td>1966</td>\n",
       "      <td>1168.0</td>\n",
       "    </tr>\n",
       "    <tr>\n",
       "      <th>3</th>\n",
       "      <td>Afghanistan</td>\n",
       "      <td>1967</td>\n",
       "      <td>1173.0</td>\n",
       "    </tr>\n",
       "    <tr>\n",
       "      <th>4</th>\n",
       "      <td>Afghanistan</td>\n",
       "      <td>1968</td>\n",
       "      <td>1187.0</td>\n",
       "    </tr>\n",
       "  </tbody>\n",
       "</table>\n",
       "</div>"
      ],
      "text/plain": [
       "       country  year     gdp\n",
       "0  Afghanistan  1964  1182.0\n",
       "1  Afghanistan  1965  1182.0\n",
       "2  Afghanistan  1966  1168.0\n",
       "3  Afghanistan  1967  1173.0\n",
       "4  Afghanistan  1968  1187.0"
      ]
     },
     "execution_count": 5,
     "metadata": {},
     "output_type": "execute_result"
    }
   ],
   "source": [
    "df_gdp = gm[['Country', 'Year', 'gdp']]\n",
    "df_gdp.columns = ['country', 'year', 'gdp']\n",
    "df_gdp.head()"
   ]
  },
  {
   "attachments": {},
   "cell_type": "markdown",
   "metadata": {},
   "source": [
    "Merge datasets"
   ]
  },
  {
   "cell_type": "code",
   "execution_count": 6,
   "metadata": {},
   "outputs": [
    {
     "data": {
      "text/html": [
       "<div>\n",
       "<style scoped>\n",
       "    .dataframe tbody tr th:only-of-type {\n",
       "        vertical-align: middle;\n",
       "    }\n",
       "\n",
       "    .dataframe tbody tr th {\n",
       "        vertical-align: top;\n",
       "    }\n",
       "\n",
       "    .dataframe thead th {\n",
       "        text-align: right;\n",
       "    }\n",
       "</style>\n",
       "<table border=\"1\" class=\"dataframe\">\n",
       "  <thead>\n",
       "    <tr style=\"text-align: right;\">\n",
       "      <th></th>\n",
       "      <th>country</th>\n",
       "      <th>region</th>\n",
       "      <th>year</th>\n",
       "      <th>co2</th>\n",
       "      <th>gdp</th>\n",
       "    </tr>\n",
       "  </thead>\n",
       "  <tbody>\n",
       "    <tr>\n",
       "      <th>0</th>\n",
       "      <td>Afghanistan</td>\n",
       "      <td>South Asia</td>\n",
       "      <td>1964</td>\n",
       "      <td>0.0863</td>\n",
       "      <td>1182.0</td>\n",
       "    </tr>\n",
       "    <tr>\n",
       "      <th>1</th>\n",
       "      <td>Afghanistan</td>\n",
       "      <td>South Asia</td>\n",
       "      <td>1965</td>\n",
       "      <td>0.1010</td>\n",
       "      <td>1182.0</td>\n",
       "    </tr>\n",
       "    <tr>\n",
       "      <th>2</th>\n",
       "      <td>Afghanistan</td>\n",
       "      <td>South Asia</td>\n",
       "      <td>1966</td>\n",
       "      <td>0.1080</td>\n",
       "      <td>1168.0</td>\n",
       "    </tr>\n",
       "    <tr>\n",
       "      <th>3</th>\n",
       "      <td>Afghanistan</td>\n",
       "      <td>South Asia</td>\n",
       "      <td>1967</td>\n",
       "      <td>0.1240</td>\n",
       "      <td>1173.0</td>\n",
       "    </tr>\n",
       "    <tr>\n",
       "      <th>4</th>\n",
       "      <td>Afghanistan</td>\n",
       "      <td>South Asia</td>\n",
       "      <td>1968</td>\n",
       "      <td>0.1160</td>\n",
       "      <td>1187.0</td>\n",
       "    </tr>\n",
       "  </tbody>\n",
       "</table>\n",
       "</div>"
      ],
      "text/plain": [
       "       country      region  year     co2     gdp\n",
       "0  Afghanistan  South Asia  1964  0.0863  1182.0\n",
       "1  Afghanistan  South Asia  1965  0.1010  1182.0\n",
       "2  Afghanistan  South Asia  1966  0.1080  1168.0\n",
       "3  Afghanistan  South Asia  1967  0.1240  1173.0\n",
       "4  Afghanistan  South Asia  1968  0.1160  1187.0"
      ]
     },
     "execution_count": 6,
     "metadata": {},
     "output_type": "execute_result"
    }
   ],
   "source": [
    "data = pd.merge(df_co2, df_gdp, on=['country', 'year'], how='left')\n",
    "data = data.dropna()\n",
    "data.head()"
   ]
  },
  {
   "attachments": {},
   "cell_type": "markdown",
   "metadata": {},
   "source": [
    "#### 1.2 Running Bokeh\n",
    "\n",
    "Import Bokeh and functions"
   ]
  },
  {
   "cell_type": "code",
   "execution_count": 7,
   "metadata": {},
   "outputs": [],
   "source": [
    "from bokeh.io import curdoc, output_notebook\n",
    "from bokeh.plotting import figure, show\n",
    "from bokeh.models import HoverTool, ColumnDataSource, CategoricalColorMapper, Slider\n",
    "from bokeh.palettes import Spectral6\n",
    "from bokeh.layouts import Column, row"
   ]
  },
  {
   "attachments": {},
   "cell_type": "markdown",
   "metadata": {},
   "source": [
    "#### Prepare base static plot"
   ]
  },
  {
   "cell_type": "code",
   "execution_count": 9,
   "metadata": {},
   "outputs": [
    {
     "data": {
      "text/html": [
       "<style>\n",
       "        .bk-notebook-logo {\n",
       "            display: block;\n",
       "            width: 20px;\n",
       "            height: 20px;\n",
       "            background-image: url(data:image/png;base64,iVBORw0KGgoAAAANSUhEUgAAABQAAAAUCAYAAACNiR0NAAAABHNCSVQICAgIfAhkiAAAAAlwSFlzAAALEgAACxIB0t1+/AAAABx0RVh0U29mdHdhcmUAQWRvYmUgRmlyZXdvcmtzIENTNui8sowAAAOkSURBVDiNjZRtaJVlGMd/1/08zzln5zjP1LWcU9N0NkN8m2CYjpgQYQXqSs0I84OLIC0hkEKoPtiH3gmKoiJDU7QpLgoLjLIQCpEsNJ1vqUOdO7ppbuec5+V+rj4ctwzd8IIbbi6u+8f1539dt3A78eXC7QizUF7gyV1fD1Yqg4JWz84yffhm0qkFqBogB9rM8tZdtwVsPUhWhGcFJngGeWrPzHm5oaMmkfEg1usvLFyc8jLRqDOMru7AyC8saQr7GG7f5fvDeH7Ej8CM66nIF+8yngt6HWaKh7k49Soy9nXurCi1o3qUbS3zWfrYeQDTB/Qj6kX6Ybhw4B+bOYoLKCC9H3Nu/leUTZ1JdRWkkn2ldcCamzrcf47KKXdAJllSlxAOkRgyHsGC/zRday5Qld9DyoM4/q/rUoy/CXh3jzOu3bHUVZeU+DEn8FInkPBFlu3+nW3Nw0mk6vCDiWg8CeJaxEwuHS3+z5RgY+YBR6V1Z1nxSOfoaPa4LASWxxdNp+VWTk7+4vzaou8v8PN+xo+KY2xsw6une2frhw05CTYOmQvsEhjhWjn0bmXPjpE1+kplmmkP3suftwTubK9Vq22qKmrBhpY4jvd5afdRA3wGjFAgcnTK2s4hY0/GPNIb0nErGMCRxWOOX64Z8RAC4oCXdklmEvcL8o0BfkNK4lUg9HTl+oPlQxdNo3Mg4Nv175e/1LDGzZen30MEjRUtmXSfiTVu1kK8W4txyV6BMKlbgk3lMwYCiusNy9fVfvvwMxv8Ynl6vxoByANLTWplvuj/nF9m2+PDtt1eiHPBr1oIfhCChQMBw6Aw0UulqTKZdfVvfG7VcfIqLG9bcldL/+pdWTLxLUy8Qq38heUIjh4XlzZxzQm19lLFlr8vdQ97rjZVOLf8nclzckbcD4wxXMidpX30sFd37Fv/GtwwhzhxGVAprjbg0gCAEeIgwCZyTV2Z1REEW8O4py0wsjeloKoMr6iCY6dP92H6Vw/oTyICIthibxjm/DfN9lVz8IqtqKYLUXfoKVMVQVVJOElGjrnnUt9T9wbgp8AyYKaGlqingHZU/uG2NTZSVqwHQTWkx9hxjkpWDaCg6Ckj5qebgBVbT3V3NNXMSiWSDdGV3hrtzla7J+duwPOToIg42ChPQOQjspnSlp1V+Gjdged7+8UN5CRAV7a5EdFNwCjEaBR27b3W890TE7g24NAP/mMDXRWrGoFPQI9ls/MWO2dWFAar/xcOIImbbpA3zgAAAABJRU5ErkJggg==);\n",
       "        }\n",
       "    </style>\n",
       "    <div>\n",
       "        <a href=\"https://bokeh.org\" target=\"_blank\" class=\"bk-notebook-logo\"></a>\n",
       "        <span id=\"p1001\">Loading BokehJS ...</span>\n",
       "    </div>\n"
      ]
     },
     "metadata": {},
     "output_type": "display_data"
    },
    {
     "data": {
      "application/javascript": "(function(root) {\n  function now() {\n    return new Date();\n  }\n\n  const force = true;\n\n  if (typeof root._bokeh_onload_callbacks === \"undefined\" || force === true) {\n    root._bokeh_onload_callbacks = [];\n    root._bokeh_is_loading = undefined;\n  }\n\nconst JS_MIME_TYPE = 'application/javascript';\n  const HTML_MIME_TYPE = 'text/html';\n  const EXEC_MIME_TYPE = 'application/vnd.bokehjs_exec.v0+json';\n  const CLASS_NAME = 'output_bokeh rendered_html';\n\n  /**\n   * Render data to the DOM node\n   */\n  function render(props, node) {\n    const script = document.createElement(\"script\");\n    node.appendChild(script);\n  }\n\n  /**\n   * Handle when an output is cleared or removed\n   */\n  function handleClearOutput(event, handle) {\n    const cell = handle.cell;\n\n    const id = cell.output_area._bokeh_element_id;\n    const server_id = cell.output_area._bokeh_server_id;\n    // Clean up Bokeh references\n    if (id != null && id in Bokeh.index) {\n      Bokeh.index[id].model.document.clear();\n      delete Bokeh.index[id];\n    }\n\n    if (server_id !== undefined) {\n      // Clean up Bokeh references\n      const cmd_clean = \"from bokeh.io.state import curstate; print(curstate().uuid_to_server['\" + server_id + \"'].get_sessions()[0].document.roots[0]._id)\";\n      cell.notebook.kernel.execute(cmd_clean, {\n        iopub: {\n          output: function(msg) {\n            const id = msg.content.text.trim();\n            if (id in Bokeh.index) {\n              Bokeh.index[id].model.document.clear();\n              delete Bokeh.index[id];\n            }\n          }\n        }\n      });\n      // Destroy server and session\n      const cmd_destroy = \"import bokeh.io.notebook as ion; ion.destroy_server('\" + server_id + \"')\";\n      cell.notebook.kernel.execute(cmd_destroy);\n    }\n  }\n\n  /**\n   * Handle when a new output is added\n   */\n  function handleAddOutput(event, handle) {\n    const output_area = handle.output_area;\n    const output = handle.output;\n\n    // limit handleAddOutput to display_data with EXEC_MIME_TYPE content only\n    if ((output.output_type != \"display_data\") || (!Object.prototype.hasOwnProperty.call(output.data, EXEC_MIME_TYPE))) {\n      return\n    }\n\n    const toinsert = output_area.element.find(\".\" + CLASS_NAME.split(' ')[0]);\n\n    if (output.metadata[EXEC_MIME_TYPE][\"id\"] !== undefined) {\n      toinsert[toinsert.length - 1].firstChild.textContent = output.data[JS_MIME_TYPE];\n      // store reference to embed id on output_area\n      output_area._bokeh_element_id = output.metadata[EXEC_MIME_TYPE][\"id\"];\n    }\n    if (output.metadata[EXEC_MIME_TYPE][\"server_id\"] !== undefined) {\n      const bk_div = document.createElement(\"div\");\n      bk_div.innerHTML = output.data[HTML_MIME_TYPE];\n      const script_attrs = bk_div.children[0].attributes;\n      for (let i = 0; i < script_attrs.length; i++) {\n        toinsert[toinsert.length - 1].firstChild.setAttribute(script_attrs[i].name, script_attrs[i].value);\n        toinsert[toinsert.length - 1].firstChild.textContent = bk_div.children[0].textContent\n      }\n      // store reference to server id on output_area\n      output_area._bokeh_server_id = output.metadata[EXEC_MIME_TYPE][\"server_id\"];\n    }\n  }\n\n  function register_renderer(events, OutputArea) {\n\n    function append_mime(data, metadata, element) {\n      // create a DOM node to render to\n      const toinsert = this.create_output_subarea(\n        metadata,\n        CLASS_NAME,\n        EXEC_MIME_TYPE\n      );\n      this.keyboard_manager.register_events(toinsert);\n      // Render to node\n      const props = {data: data, metadata: metadata[EXEC_MIME_TYPE]};\n      render(props, toinsert[toinsert.length - 1]);\n      element.append(toinsert);\n      return toinsert\n    }\n\n    /* Handle when an output is cleared or removed */\n    events.on('clear_output.CodeCell', handleClearOutput);\n    events.on('delete.Cell', handleClearOutput);\n\n    /* Handle when a new output is added */\n    events.on('output_added.OutputArea', handleAddOutput);\n\n    /**\n     * Register the mime type and append_mime function with output_area\n     */\n    OutputArea.prototype.register_mime_type(EXEC_MIME_TYPE, append_mime, {\n      /* Is output safe? */\n      safe: true,\n      /* Index of renderer in `output_area.display_order` */\n      index: 0\n    });\n  }\n\n  // register the mime type if in Jupyter Notebook environment and previously unregistered\n  if (root.Jupyter !== undefined) {\n    const events = require('base/js/events');\n    const OutputArea = require('notebook/js/outputarea').OutputArea;\n\n    if (OutputArea.prototype.mime_types().indexOf(EXEC_MIME_TYPE) == -1) {\n      register_renderer(events, OutputArea);\n    }\n  }\n  if (typeof (root._bokeh_timeout) === \"undefined\" || force === true) {\n    root._bokeh_timeout = Date.now() + 5000;\n    root._bokeh_failed_load = false;\n  }\n\n  const NB_LOAD_WARNING = {'data': {'text/html':\n     \"<div style='background-color: #fdd'>\\n\"+\n     \"<p>\\n\"+\n     \"BokehJS does not appear to have successfully loaded. If loading BokehJS from CDN, this \\n\"+\n     \"may be due to a slow or bad network connection. Possible fixes:\\n\"+\n     \"</p>\\n\"+\n     \"<ul>\\n\"+\n     \"<li>re-rerun `output_notebook()` to attempt to load from CDN again, or</li>\\n\"+\n     \"<li>use INLINE resources instead, as so:</li>\\n\"+\n     \"</ul>\\n\"+\n     \"<code>\\n\"+\n     \"from bokeh.resources import INLINE\\n\"+\n     \"output_notebook(resources=INLINE)\\n\"+\n     \"</code>\\n\"+\n     \"</div>\"}};\n\n  function display_loaded() {\n    const el = document.getElementById(\"p1001\");\n    if (el != null) {\n      el.textContent = \"BokehJS is loading...\";\n    }\n    if (root.Bokeh !== undefined) {\n      if (el != null) {\n        el.textContent = \"BokehJS \" + root.Bokeh.version + \" successfully loaded.\";\n      }\n    } else if (Date.now() < root._bokeh_timeout) {\n      setTimeout(display_loaded, 100)\n    }\n  }\n\n  function run_callbacks() {\n    try {\n      root._bokeh_onload_callbacks.forEach(function(callback) {\n        if (callback != null)\n          callback();\n      });\n    } finally {\n      delete root._bokeh_onload_callbacks\n    }\n    console.debug(\"Bokeh: all callbacks have finished\");\n  }\n\n  function load_libs(css_urls, js_urls, callback) {\n    if (css_urls == null) css_urls = [];\n    if (js_urls == null) js_urls = [];\n\n    root._bokeh_onload_callbacks.push(callback);\n    if (root._bokeh_is_loading > 0) {\n      console.debug(\"Bokeh: BokehJS is being loaded, scheduling callback at\", now());\n      return null;\n    }\n    if (js_urls == null || js_urls.length === 0) {\n      run_callbacks();\n      return null;\n    }\n    console.debug(\"Bokeh: BokehJS not loaded, scheduling load and callback at\", now());\n    root._bokeh_is_loading = css_urls.length + js_urls.length;\n\n    function on_load() {\n      root._bokeh_is_loading--;\n      if (root._bokeh_is_loading === 0) {\n        console.debug(\"Bokeh: all BokehJS libraries/stylesheets loaded\");\n        run_callbacks()\n      }\n    }\n\n    function on_error(url) {\n      console.error(\"failed to load \" + url);\n    }\n\n    for (let i = 0; i < css_urls.length; i++) {\n      const url = css_urls[i];\n      const element = document.createElement(\"link\");\n      element.onload = on_load;\n      element.onerror = on_error.bind(null, url);\n      element.rel = \"stylesheet\";\n      element.type = \"text/css\";\n      element.href = url;\n      console.debug(\"Bokeh: injecting link tag for BokehJS stylesheet: \", url);\n      document.body.appendChild(element);\n    }\n\n    for (let i = 0; i < js_urls.length; i++) {\n      const url = js_urls[i];\n      const element = document.createElement('script');\n      element.onload = on_load;\n      element.onerror = on_error.bind(null, url);\n      element.async = false;\n      element.src = url;\n      console.debug(\"Bokeh: injecting script tag for BokehJS library: \", url);\n      document.head.appendChild(element);\n    }\n  };\n\n  function inject_raw_css(css) {\n    const element = document.createElement(\"style\");\n    element.appendChild(document.createTextNode(css));\n    document.body.appendChild(element);\n  }\n\n  const js_urls = [\"https://cdn.bokeh.org/bokeh/release/bokeh-3.1.0.min.js\", \"https://cdn.bokeh.org/bokeh/release/bokeh-gl-3.1.0.min.js\", \"https://cdn.bokeh.org/bokeh/release/bokeh-widgets-3.1.0.min.js\", \"https://cdn.bokeh.org/bokeh/release/bokeh-tables-3.1.0.min.js\", \"https://cdn.bokeh.org/bokeh/release/bokeh-mathjax-3.1.0.min.js\"];\n  const css_urls = [];\n\n  const inline_js = [    function(Bokeh) {\n      Bokeh.set_log_level(\"info\");\n    },\nfunction(Bokeh) {\n    }\n  ];\n\n  function run_inline_js() {\n    if (root.Bokeh !== undefined || force === true) {\n          for (let i = 0; i < inline_js.length; i++) {\n      inline_js[i].call(root, root.Bokeh);\n    }\nif (force === true) {\n        display_loaded();\n      }} else if (Date.now() < root._bokeh_timeout) {\n      setTimeout(run_inline_js, 100);\n    } else if (!root._bokeh_failed_load) {\n      console.log(\"Bokeh: BokehJS failed to load within specified timeout.\");\n      root._bokeh_failed_load = true;\n    } else if (force !== true) {\n      const cell = $(document.getElementById(\"p1001\")).parents('.cell').data().cell;\n      cell.output_area.append_execute_result(NB_LOAD_WARNING)\n    }\n  }\n\n  if (root._bokeh_is_loading === 0) {\n    console.debug(\"Bokeh: BokehJS loaded, going straight to plotting\");\n    run_inline_js();\n  } else {\n    load_libs(css_urls, js_urls, function() {\n      console.debug(\"Bokeh: BokehJS plotting callback run at\", now());\n      run_inline_js();\n    });\n  }\n}(window));",
      "application/vnd.bokehjs_load.v0+json": ""
     },
     "metadata": {},
     "output_type": "display_data"
    }
   ],
   "source": [
    "# load BokehJS - enables the plot to be displayed within the notebook\n",
    "output_notebook()"
   ]
  },
  {
   "cell_type": "code",
   "execution_count": 10,
   "metadata": {},
   "outputs": [],
   "source": [
    "# create list of regions - to color the datapoints based on the region\n",
    "regions_list = data.region.unique().tolist()\n",
    "# assign colors to each region\n",
    "color_mapper = CategoricalColorMapper(factors=regions_list, palette=Spectral6)"
   ]
  },
  {
   "cell_type": "code",
   "execution_count": 11,
   "metadata": {},
   "outputs": [],
   "source": [
    "# make a data source for the plot\n",
    "source = ColumnDataSource(data={\n",
    "    'x': data.gdp[data['year'] == 1964],\n",
    "    'y': data.co2[data['year'] == 1964],\n",
    "    'country': data.country[data['year'] == 1964],\n",
    "    'region': data.region[data['year'] == 1964],\n",
    "})"
   ]
  },
  {
   "cell_type": "code",
   "execution_count": 12,
   "metadata": {},
   "outputs": [],
   "source": [
    "# Save the minimum and maximum values of the gdp column: xmin, xmax\n",
    "xmin, xmax = min(data.gdp), max(data.gdp)\n",
    "\n",
    "# Save the minimum and maximum values of the co2 column: ymin, ymax\n",
    "ymin, ymax = min(data.co2), max(data.co2)"
   ]
  },
  {
   "cell_type": "code",
   "execution_count": 13,
   "metadata": {},
   "outputs": [],
   "source": [
    "# Create the figure: plot\n",
    "plot = figure(title='CO2 Emissions vs GDP in 1964', \n",
    "              height=600, width=1000,\n",
    "              x_range=(xmin, xmax),\n",
    "              y_range=(ymin, ymax), y_axis_type='log')"
   ]
  },
  {
   "cell_type": "code",
   "execution_count": 14,
   "metadata": {},
   "outputs": [
    {
     "data": {
      "text/html": [
       "<div style=\"display: table;\"><div style=\"display: table-row;\"><div style=\"display: table-cell;\"><b title=\"bokeh.models.renderers.glyph_renderer.GlyphRenderer\">GlyphRenderer</b>(</div><div style=\"display: table-cell;\">id&nbsp;=&nbsp;'p1059', <span id=\"p1065\" style=\"cursor: pointer;\">&hellip;)</span></div></div><div class=\"p1064\" style=\"display: none;\"><div style=\"display: table-cell;\"></div><div style=\"display: table-cell;\">coordinates&nbsp;=&nbsp;None,</div></div><div class=\"p1064\" style=\"display: none;\"><div style=\"display: table-cell;\"></div><div style=\"display: table-cell;\">data_source&nbsp;=&nbsp;ColumnDataSource(id='p1003', ...),</div></div><div class=\"p1064\" style=\"display: none;\"><div style=\"display: table-cell;\"></div><div style=\"display: table-cell;\">glyph&nbsp;=&nbsp;Circle(id='p1056', ...),</div></div><div class=\"p1064\" style=\"display: none;\"><div style=\"display: table-cell;\"></div><div style=\"display: table-cell;\">group&nbsp;=&nbsp;None,</div></div><div class=\"p1064\" style=\"display: none;\"><div style=\"display: table-cell;\"></div><div style=\"display: table-cell;\">hover_glyph&nbsp;=&nbsp;None,</div></div><div class=\"p1064\" style=\"display: none;\"><div style=\"display: table-cell;\"></div><div style=\"display: table-cell;\">js_event_callbacks&nbsp;=&nbsp;{},</div></div><div class=\"p1064\" style=\"display: none;\"><div style=\"display: table-cell;\"></div><div style=\"display: table-cell;\">js_property_callbacks&nbsp;=&nbsp;{},</div></div><div class=\"p1064\" style=\"display: none;\"><div style=\"display: table-cell;\"></div><div style=\"display: table-cell;\">level&nbsp;=&nbsp;'glyph',</div></div><div class=\"p1064\" style=\"display: none;\"><div style=\"display: table-cell;\"></div><div style=\"display: table-cell;\">muted&nbsp;=&nbsp;False,</div></div><div class=\"p1064\" style=\"display: none;\"><div style=\"display: table-cell;\"></div><div style=\"display: table-cell;\">muted_glyph&nbsp;=&nbsp;Circle(id='p1058', ...),</div></div><div class=\"p1064\" style=\"display: none;\"><div style=\"display: table-cell;\"></div><div style=\"display: table-cell;\">name&nbsp;=&nbsp;None,</div></div><div class=\"p1064\" style=\"display: none;\"><div style=\"display: table-cell;\"></div><div style=\"display: table-cell;\">nonselection_glyph&nbsp;=&nbsp;Circle(id='p1057', ...),</div></div><div class=\"p1064\" style=\"display: none;\"><div style=\"display: table-cell;\"></div><div style=\"display: table-cell;\">propagate_hover&nbsp;=&nbsp;False,</div></div><div class=\"p1064\" style=\"display: none;\"><div style=\"display: table-cell;\"></div><div style=\"display: table-cell;\">selection_glyph&nbsp;=&nbsp;'auto',</div></div><div class=\"p1064\" style=\"display: none;\"><div style=\"display: table-cell;\"></div><div style=\"display: table-cell;\">subscribed_events&nbsp;=&nbsp;PropertyValueSet(),</div></div><div class=\"p1064\" style=\"display: none;\"><div style=\"display: table-cell;\"></div><div style=\"display: table-cell;\">syncable&nbsp;=&nbsp;True,</div></div><div class=\"p1064\" style=\"display: none;\"><div style=\"display: table-cell;\"></div><div style=\"display: table-cell;\">tags&nbsp;=&nbsp;[],</div></div><div class=\"p1064\" style=\"display: none;\"><div style=\"display: table-cell;\"></div><div style=\"display: table-cell;\">view&nbsp;=&nbsp;CDSView(id='p1060', ...),</div></div><div class=\"p1064\" style=\"display: none;\"><div style=\"display: table-cell;\"></div><div style=\"display: table-cell;\">visible&nbsp;=&nbsp;True,</div></div><div class=\"p1064\" style=\"display: none;\"><div style=\"display: table-cell;\"></div><div style=\"display: table-cell;\">x_range_name&nbsp;=&nbsp;'default',</div></div><div class=\"p1064\" style=\"display: none;\"><div style=\"display: table-cell;\"></div><div style=\"display: table-cell;\">y_range_name&nbsp;=&nbsp;'default')</div></div></div>\n",
       "<script>\n",
       "(function() {\n",
       "  let expanded = false;\n",
       "  const ellipsis = document.getElementById(\"p1065\");\n",
       "  ellipsis.addEventListener(\"click\", function() {\n",
       "    const rows = document.getElementsByClassName(\"p1064\");\n",
       "    for (let i = 0; i < rows.length; i++) {\n",
       "      const el = rows[i];\n",
       "      el.style.display = expanded ? \"none\" : \"table-row\";\n",
       "    }\n",
       "    ellipsis.innerHTML = expanded ? \"&hellip;)\" : \"&lsaquo;&lsaquo;&lsaquo;\";\n",
       "    expanded = !expanded;\n",
       "  });\n",
       "})();\n",
       "</script>\n"
      ],
      "text/plain": [
       "GlyphRenderer(id='p1059', ...)"
      ]
     },
     "execution_count": 14,
     "metadata": {},
     "output_type": "execute_result"
    }
   ],
   "source": [
    "# Add circle glyphs to the plot\n",
    "plot.circle(x='x', y='y', fill_alpha=0.8, source=source, legend_field='region',\n",
    "            color=dict(field='region', transform=color_mapper),\n",
    "            size=7)"
   ]
  },
  {
   "cell_type": "code",
   "execution_count": 15,
   "metadata": {},
   "outputs": [
    {
     "data": {
      "text/html": [
       "\n",
       "  <div id=\"63e8391c-f1b2-461c-8390-a471d6b5ed94\" data-root-id=\"p1006\" style=\"display: contents;\"></div>\n"
      ]
     },
     "metadata": {},
     "output_type": "display_data"
    },
    {
     "data": {
      "application/javascript": "(function(root) {\n  function embed_document(root) {\n  const docs_json = {\"2caa14dc-db8a-4ebc-876a-175a35ad246d\":{\"version\":\"3.1.0\",\"title\":\"Bokeh Application\",\"defs\":[],\"roots\":[{\"type\":\"object\",\"name\":\"Figure\",\"id\":\"p1006\",\"attributes\":{\"width\":1000,\"x_range\":{\"type\":\"object\",\"name\":\"Range1d\",\"id\":\"p1016\",\"attributes\":{\"start\":142.0,\"end\":182668.0}},\"y_range\":{\"type\":\"object\",\"name\":\"Range1d\",\"id\":\"p1018\",\"attributes\":{\"end\":101.0}},\"x_scale\":{\"type\":\"object\",\"name\":\"LinearScale\",\"id\":\"p1020\"},\"y_scale\":{\"type\":\"object\",\"name\":\"LogScale\",\"id\":\"p1022\"},\"title\":{\"type\":\"object\",\"name\":\"Title\",\"id\":\"p1009\",\"attributes\":{\"text\":\"CO2 Emissions vs GDP in 1964\"}},\"renderers\":[{\"type\":\"object\",\"name\":\"GlyphRenderer\",\"id\":\"p1059\",\"attributes\":{\"data_source\":{\"type\":\"object\",\"name\":\"ColumnDataSource\",\"id\":\"p1003\",\"attributes\":{\"selected\":{\"type\":\"object\",\"name\":\"Selection\",\"id\":\"p1004\",\"attributes\":{\"indices\":[],\"line_indices\":[]}},\"selection_policy\":{\"type\":\"object\",\"name\":\"UnionRenderers\",\"id\":\"p1005\"},\"data\":{\"type\":\"map\",\"entries\":[[\"x\",{\"type\":\"ndarray\",\"array\":{\"type\":\"bytes\",\"data\":\"AAAAAAB4kkAAAAAAAJ6nQAAAAAAAPbZAAAAAAADdsUAAAAAAAJCzQAAAAACAEcBAAAAAAAAOpkAAAAAAAHHPQAAAAACALctAAAAAAAB3tkAAAAAAALzRQAAAAADAK9hAAAAAAADIkUAAAAAAADG2QAAAAAAABbFAAAAAAIBJzUAAAAAAAISgQAAAAAAAHJJAAAAAAAA2p0AAAAAAAGOyQAAAAAAgfPBAAAAAAADet0AAAAAAADiGQAAAAAAA2IJAAAAAAAAwmEAAAAAAANidQAAAAAAAFNBAAAAAAAD4i0AAAAAAAASWQAAAAAAAiblAAAAAAABIhkAAAAAAAEqtQAAAAAAA+JRAAAAAAAB4oEAAAAAAANShQAAAAAAAj7FAAAAAAADgqUAAAAAAgO3BQAAAAAAAo7lAAAAAAADN0UAAAAAAAOisQAAAAAAAsrJAAAAAAAAWo0AAAAAAAOmxQAAAAAAARJBAAAAAAADQhUAAAAAAAK6sQAAAAACAMshAAAAAAIBIy0AAAAAAACyjQAAAAAAAgJRAAAAAAAD2rEAAAAAAALPQQAAAAAAAJKJAAAAAAIACwEAAAAAAABiiQAAAAAAAFK1AAAAAAAAwi0AAAAAAAICWQAAAAAAAuKhAAAAAAACgn0AAAAAAAC6kQAAAAACApcVAAAAAAABFykAAAAAAAJSRQAAAAAAAeJpAAAAAAAAsuEAAAAAAAJW6QAAAAACA/8FAAAAAAADYv0AAAAAAgBvIQAAAAAAATbdAAAAAAABVukAAAAAAALS1QAAAAAAAZcJAAAAAAAAInkAAAAAAAJ6kQAAAAADAl9xAAAAAAIATw0AAAAAAAByUQAAAAADAv91AAAAAAAD0xEAAAAAAwKTYQAAAAAAAwqFAAAAAAABweEAAAAAAAPiIQAAAAAAAHKZAAAAAAACcoUAAAAAAAAyqQAAAAAAAhbtAAAAAAABCsEAAAAAAAJyVQAAAAAAA4J9AAAAAAADggEAAAAAAADiVQAAAAAAAUI9AAAAAAACyzUAAAAAAQGvRQAAAAAAAt7VAAAAAAAB0lkAAAAAAALatQAAAAACAsdFAAAAAAAArtUAAAAAAANCVQAAAAAAA9LJAAAAAAACwlEAAAAAAALaoQAAAAAAAC7hAAAAAAAASpkAAAAAAAKa7QAAAAAAA9rpAAAAAAOBj40AAAAAAAFi9QAAAAAAAHsdAAAAAAACgf0AAAAAAAFSrQAAAAAAALJpAAAAAAMAy0EAAAAAAAIygQAAAAAAArrhAAAAAAADUlEAAAAAAAO21QAAAAACA18FAAAAAAACYkkAAAAAAAKyRQAAAAAAAlsFAAAAAAIDRwEAAAAAAAEScQAAAAAAAnKBAAAAAAADivUAAAAAAADKlQAAAAACAANJAAAAAAIAp3kAAAAAAAJymQAAAAAAAcq1AAAAAAABgkkAAAAAAAPSaQAAAAAAALJdAAAAAAAAomUAAAAAAAEnCQAAAAAAAHqRAAAAAAACwtEAAAAAAABC/QAAAAAAAKI5AAAAAAABfuEAAAAAAAJ2zQAAAAACAbc1AAAAAAIDc00AAAAAAANy9QAAAAAAAmKRAAAAAAABEmEAAAAAAgO7KQAAAAAAAFJRAAAAAAAAcqUAAAAAAAOCeQA==\"},\"shape\":[155],\"dtype\":\"float64\",\"order\":\"little\"}],[\"y\",{\"type\":\"ndarray\",\"array\":{\"type\":\"bytes\",\"data\":\"nRGlvcEXtj9xPQrXo3DxP3E9CtejcN0/7nw/NV66yT+kcD0K16P4P1K4HoXrUQRAMzMzMzMz9z+amZmZmZkjQHsUrkfhehVAAAAAAAAAG0A9CtejcD0gQHsUrkfheiFAKVyPwvUorD9QjZduEoPoPwrXo3A9ChZAAAAAAAAAJkCTGARWDi3qP44G8BZIUKw/WDm0yHa+1z+R7Xw/NV7mP+xRuB6F6wtAAAAAAAAAFUCu2F92Tx6WP3ZxGw3gLZA/uECC4seYqz9UdCSX/5CuP5qZmZmZmShA+FPjpZvEwD8IrBxaZDufP6RwPQrXowBALbKd76fG4z+4HoXrUbjyP9nO91Pjpas/wcqhRbbzvT8ZBFYOLbLNP39qvHSTGNw/BoGVQ4tsxz9xPQrXo3D9P65H4XoUrvs/SOF6FK5HIkBKDAIrhxbpP4ts5/up8do/XrpJDAIr6z+cxCCwcmjZPw+cM6K0N7g/0m9fB84ZkT9oke18PzXuPxSuR+F6FBRAhetRuB6FHECyne+nxkvXP77BFyZTBbM/j8L1KFyP/j+amZmZmZkpQClcj8L1KMw/H4XrUbge+T/ByqFFtvPNP1YOLbKd79c/WmQ730+Nxz/DZKpgVFK3P1K4HoXrUfA/GlHaG3xhsj99PzVeuknUP6RwPQrXoxhApHA9CtejG0Atsp3vp8bTPx1aZDvfT80/XI/C9Shc/z/sUbgehevxPwAAAAAAABRA7FG4HoXrDUBxPQrXo3ALQM3MzMzMzAJAhetRuB6FDUAUrkfhehTyPzMzMzMzMyhA2c73U+Ol0z9CYOXQItvZP83MzMzMzE1AmpmZmZmZ+T9I4XoUrkfZP0a28/3UeNk/MzMzMzMzEEDNzMzMzMxCQHuDL0ymCrY/pb3BFyZTtT/8qfHSTWKgP/YoXI/C9fg/CKwcWmQ7vz83iUFg5dDaP4XrUbgehfs/cT0K16NwC0BmZmZmZmb+P9Ei2/l+atQ/SgwCK4cW0T8AAAAAAADAP3npJjEIrIw/hetRuB4FIEBSuB6F61EUQLx0kxgEVt4/3bWEfNCzmT+LbOf7qfHCP4XrUbgehRFAf/s6cM6Ikj8j2/l+arzUP166SQwCK+8/CKwcWmQ7vz89CtejcD3KP3E9CtejcPE/MQisHFpk2z9SuB6F61EfQK5H4XoUrvM/mpmZmZk5V0AAAAAAAAAOQD0K16NwvSFA4JwRpb3Bhz85tMh2vp/KPxfZzvdT48U/KVyPwvUo+D9QjZduEoPQP8/3U+Olm8Q/AAAAAAAAwD8pXI/C9SgAQHsUrkfheiJARIts5/upwT9N845TdCSnP6RwPQrXoxhAKVyPwvUoAEDhehSuR+HKP9V46SYxCMw/7FG4HoXr/T+Sy39Iv32dP3E9CtejcB9ArkfhehSuE0DhehSuR+HqPxSuR+F6FPo/1CtlGeJYtz9g5dAi2/nOPxZqTfOOU7Q/L90kBoGVwz/NzMzMzMwQQC2yne+nxuM/rBxaZDvf6z9I4XoUrkcjQJf/kH77OrA/H4XrUbgeHkBMN4lBYOXAP5qZmZmZmSZAAAAAAACAMEBcj8L1KFz7P3E9CtejcBhA2c73U+Ol6z/hehSuR+EXQCUGgZVDi9Q/ke18PzVe7j/NzMzMzMzwPw==\"},\"shape\":[155],\"dtype\":\"float64\",\"order\":\"little\"}],[\"country\",{\"type\":\"ndarray\",\"array\":[\"Afghanistan\",\"Albania\",\"Algeria\",\"Angola\",\"Antigua and Barbuda\",\"Argentina\",\"Armenia\",\"Australia\",\"Austria\",\"Azerbaijan\",\"Bahamas\",\"Bahrain\",\"Bangladesh\",\"Barbados\",\"Belarus\",\"Belgium\",\"Belize\",\"Benin\",\"Bolivia\",\"Brazil\",\"Brunei\",\"Bulgaria\",\"Burkina Faso\",\"Burundi\",\"Cambodia\",\"Cameroon\",\"Canada\",\"Cape Verde\",\"Chad\",\"Chile\",\"China\",\"Colombia\",\"Comoros\",\"Congo, Dem. Rep.\",\"Congo, Rep.\",\"Costa Rica\",\"Cote d'Ivoire\",\"Cuba\",\"Cyprus\",\"Denmark\",\"Djibouti\",\"Ecuador\",\"Egypt\",\"El Salvador\",\"Equatorial Guinea\",\"Ethiopia\",\"Fiji\",\"Finland\",\"France\",\"Gabon\",\"Gambia\",\"Georgia\",\"Germany\",\"Ghana\",\"Greece\",\"Grenada\",\"Guatemala\",\"Guinea\",\"Guinea-Bissau\",\"Guyana\",\"Haiti\",\"Honduras\",\"Hungary\",\"Iceland\",\"India\",\"Indonesia\",\"Iran\",\"Iraq\",\"Ireland\",\"Israel\",\"Italy\",\"Jamaica\",\"Japan\",\"Jordan\",\"Kazakhstan\",\"Kenya\",\"Kiribati\",\"Kuwait\",\"Lebanon\",\"Liberia\",\"Libya\",\"Lithuania\",\"Luxembourg\",\"Madagascar\",\"Malawi\",\"Mali\",\"Malta\",\"Mauritania\",\"Mauritius\",\"Mexico\",\"Moldova\",\"Mongolia\",\"Morocco\",\"Mozambique\",\"Myanmar\",\"Nepal\",\"Netherlands\",\"New Zealand\",\"Nicaragua\",\"Niger\",\"Nigeria\",\"Norway\",\"Oman\",\"Pakistan\",\"Panama\",\"Papua New Guinea\",\"Paraguay\",\"Peru\",\"Philippines\",\"Poland\",\"Portugal\",\"Qatar\",\"Romania\",\"Russia\",\"Rwanda\",\"Samoa\",\"Sao Tome and Principe\",\"Saudi Arabia\",\"Senegal\",\"Seychelles\",\"Sierra Leone\",\"Singapore\",\"Slovak Republic\",\"Solomon Islands\",\"Somalia\",\"South Africa\",\"Spain\",\"Sri Lanka\",\"Sudan\",\"Suriname\",\"Swaziland\",\"Sweden\",\"Switzerland\",\"Syria\",\"Tajikistan\",\"Tanzania\",\"Thailand\",\"Togo\",\"Tonga\",\"Trinidad and Tobago\",\"Tunisia\",\"Turkey\",\"Turkmenistan\",\"Uganda\",\"Ukraine\",\"United Arab Emirates\",\"United Kingdom\",\"United States\",\"Uruguay\",\"Uzbekistan\",\"Vanuatu\",\"Venezuela\",\"Vietnam\",\"Zambia\",\"Zimbabwe\"],\"shape\":[155],\"dtype\":\"object\",\"order\":\"little\"}],[\"region\",{\"type\":\"ndarray\",\"array\":[\"South Asia\",\"Europe & Central Asia\",\"Middle East & North Africa\",\"Sub-Saharan Africa\",\"America\",\"America\",\"Europe & Central Asia\",\"East Asia & Pacific\",\"Europe & Central Asia\",\"Europe & Central Asia\",\"America\",\"Middle East & North Africa\",\"South Asia\",\"America\",\"Europe & Central Asia\",\"Europe & Central Asia\",\"America\",\"Sub-Saharan Africa\",\"America\",\"America\",\"East Asia & Pacific\",\"Europe & Central Asia\",\"Sub-Saharan Africa\",\"Sub-Saharan Africa\",\"East Asia & Pacific\",\"Sub-Saharan Africa\",\"America\",\"Sub-Saharan Africa\",\"Sub-Saharan Africa\",\"America\",\"East Asia & Pacific\",\"America\",\"Sub-Saharan Africa\",\"Sub-Saharan Africa\",\"Sub-Saharan Africa\",\"America\",\"Sub-Saharan Africa\",\"America\",\"Europe & Central Asia\",\"Europe & Central Asia\",\"Middle East & North Africa\",\"America\",\"Middle East & North Africa\",\"America\",\"Sub-Saharan Africa\",\"Sub-Saharan Africa\",\"East Asia & Pacific\",\"Europe & Central Asia\",\"Europe & Central Asia\",\"Sub-Saharan Africa\",\"Sub-Saharan Africa\",\"Europe & Central Asia\",\"Europe & Central Asia\",\"Sub-Saharan Africa\",\"Europe & Central Asia\",\"America\",\"America\",\"Sub-Saharan Africa\",\"Sub-Saharan Africa\",\"America\",\"America\",\"America\",\"Europe & Central Asia\",\"Europe & Central Asia\",\"South Asia\",\"East Asia & Pacific\",\"Middle East & North Africa\",\"Middle East & North Africa\",\"Europe & Central Asia\",\"Middle East & North Africa\",\"Europe & Central Asia\",\"America\",\"East Asia & Pacific\",\"Middle East & North Africa\",\"Europe & Central Asia\",\"Sub-Saharan Africa\",\"East Asia & Pacific\",\"Middle East & North Africa\",\"Middle East & North Africa\",\"Sub-Saharan Africa\",\"Middle East & North Africa\",\"Europe & Central Asia\",\"Europe & Central Asia\",\"Sub-Saharan Africa\",\"Sub-Saharan Africa\",\"Sub-Saharan Africa\",\"Europe & Central Asia\",\"Sub-Saharan Africa\",\"Sub-Saharan Africa\",\"America\",\"Europe & Central Asia\",\"East Asia & Pacific\",\"Middle East & North Africa\",\"Sub-Saharan Africa\",\"East Asia & Pacific\",\"South Asia\",\"Europe & Central Asia\",\"East Asia & Pacific\",\"America\",\"Sub-Saharan Africa\",\"Sub-Saharan Africa\",\"Europe & Central Asia\",\"Middle East & North Africa\",\"South Asia\",\"America\",\"East Asia & Pacific\",\"America\",\"America\",\"East Asia & Pacific\",\"Europe & Central Asia\",\"Europe & Central Asia\",\"Middle East & North Africa\",\"Europe & Central Asia\",\"Europe & Central Asia\",\"Sub-Saharan Africa\",\"East Asia & Pacific\",\"Sub-Saharan Africa\",\"Middle East & North Africa\",\"Sub-Saharan Africa\",\"Sub-Saharan Africa\",\"Sub-Saharan Africa\",\"East Asia & Pacific\",\"Europe & Central Asia\",\"East Asia & Pacific\",\"Sub-Saharan Africa\",\"Sub-Saharan Africa\",\"Europe & Central Asia\",\"South Asia\",\"Sub-Saharan Africa\",\"America\",\"Sub-Saharan Africa\",\"Europe & Central Asia\",\"Europe & Central Asia\",\"Middle East & North Africa\",\"Europe & Central Asia\",\"Sub-Saharan Africa\",\"East Asia & Pacific\",\"Sub-Saharan Africa\",\"East Asia & Pacific\",\"America\",\"Middle East & North Africa\",\"Europe & Central Asia\",\"Europe & Central Asia\",\"Sub-Saharan Africa\",\"Europe & Central Asia\",\"Middle East & North Africa\",\"Europe & Central Asia\",\"America\",\"America\",\"Europe & Central Asia\",\"East Asia & Pacific\",\"America\",\"East Asia & Pacific\",\"Sub-Saharan Africa\",\"Sub-Saharan Africa\"],\"shape\":[155],\"dtype\":\"object\",\"order\":\"little\"}]]}}},\"view\":{\"type\":\"object\",\"name\":\"CDSView\",\"id\":\"p1060\",\"attributes\":{\"filter\":{\"type\":\"object\",\"name\":\"AllIndices\",\"id\":\"p1061\"}}},\"glyph\":{\"type\":\"object\",\"name\":\"Circle\",\"id\":\"p1056\",\"attributes\":{\"x\":{\"type\":\"field\",\"field\":\"x\"},\"y\":{\"type\":\"field\",\"field\":\"y\"},\"size\":{\"type\":\"value\",\"value\":7},\"line_color\":{\"type\":\"field\",\"field\":\"region\",\"transform\":{\"type\":\"object\",\"name\":\"CategoricalColorMapper\",\"id\":\"p1002\",\"attributes\":{\"palette\":[\"#3288bd\",\"#99d594\",\"#e6f598\",\"#fee08b\",\"#fc8d59\",\"#d53e4f\"],\"factors\":[\"South Asia\",\"Europe & Central Asia\",\"Middle East & North Africa\",\"Sub-Saharan Africa\",\"America\",\"East Asia & Pacific\"]}}},\"fill_color\":{\"type\":\"field\",\"field\":\"region\",\"transform\":{\"id\":\"p1002\"}},\"fill_alpha\":{\"type\":\"value\",\"value\":0.8},\"hatch_color\":{\"type\":\"field\",\"field\":\"region\",\"transform\":{\"id\":\"p1002\"}}}},\"nonselection_glyph\":{\"type\":\"object\",\"name\":\"Circle\",\"id\":\"p1057\",\"attributes\":{\"x\":{\"type\":\"field\",\"field\":\"x\"},\"y\":{\"type\":\"field\",\"field\":\"y\"},\"size\":{\"type\":\"value\",\"value\":7},\"line_color\":{\"type\":\"field\",\"field\":\"region\",\"transform\":{\"id\":\"p1002\"}},\"line_alpha\":{\"type\":\"value\",\"value\":0.1},\"fill_color\":{\"type\":\"field\",\"field\":\"region\",\"transform\":{\"id\":\"p1002\"}},\"fill_alpha\":{\"type\":\"value\",\"value\":0.1},\"hatch_color\":{\"type\":\"field\",\"field\":\"region\",\"transform\":{\"id\":\"p1002\"}},\"hatch_alpha\":{\"type\":\"value\",\"value\":0.1}}},\"muted_glyph\":{\"type\":\"object\",\"name\":\"Circle\",\"id\":\"p1058\",\"attributes\":{\"x\":{\"type\":\"field\",\"field\":\"x\"},\"y\":{\"type\":\"field\",\"field\":\"y\"},\"size\":{\"type\":\"value\",\"value\":7},\"line_color\":{\"type\":\"field\",\"field\":\"region\",\"transform\":{\"id\":\"p1002\"}},\"line_alpha\":{\"type\":\"value\",\"value\":0.2},\"fill_color\":{\"type\":\"field\",\"field\":\"region\",\"transform\":{\"id\":\"p1002\"}},\"fill_alpha\":{\"type\":\"value\",\"value\":0.2},\"hatch_color\":{\"type\":\"field\",\"field\":\"region\",\"transform\":{\"id\":\"p1002\"}},\"hatch_alpha\":{\"type\":\"value\",\"value\":0.2}}}}}],\"toolbar\":{\"type\":\"object\",\"name\":\"Toolbar\",\"id\":\"p1011\",\"attributes\":{\"tools\":[{\"type\":\"object\",\"name\":\"PanTool\",\"id\":\"p1038\"},{\"type\":\"object\",\"name\":\"WheelZoomTool\",\"id\":\"p1039\"},{\"type\":\"object\",\"name\":\"BoxZoomTool\",\"id\":\"p1040\",\"attributes\":{\"overlay\":{\"type\":\"object\",\"name\":\"BoxAnnotation\",\"id\":\"p1041\",\"attributes\":{\"syncable\":false,\"level\":\"overlay\",\"visible\":false,\"left_units\":\"canvas\",\"right_units\":\"canvas\",\"bottom_units\":\"canvas\",\"top_units\":\"canvas\",\"line_color\":\"black\",\"line_alpha\":1.0,\"line_width\":2,\"line_dash\":[4,4],\"fill_color\":\"lightgrey\",\"fill_alpha\":0.5}}}},{\"type\":\"object\",\"name\":\"SaveTool\",\"id\":\"p1042\"},{\"type\":\"object\",\"name\":\"ResetTool\",\"id\":\"p1043\"},{\"type\":\"object\",\"name\":\"HelpTool\",\"id\":\"p1044\"}]}},\"left\":[{\"type\":\"object\",\"name\":\"LogAxis\",\"id\":\"p1031\",\"attributes\":{\"ticker\":{\"type\":\"object\",\"name\":\"LogTicker\",\"id\":\"p1034\",\"attributes\":{\"num_minor_ticks\":10,\"mantissas\":[1,5]}},\"formatter\":{\"type\":\"object\",\"name\":\"LogTickFormatter\",\"id\":\"p1033\"},\"axis_label\":\"CO2 Emissions (tons per person)\",\"major_label_policy\":{\"type\":\"object\",\"name\":\"AllLabels\",\"id\":\"p1032\"}}}],\"below\":[{\"type\":\"object\",\"name\":\"LinearAxis\",\"id\":\"p1024\",\"attributes\":{\"ticker\":{\"type\":\"object\",\"name\":\"BasicTicker\",\"id\":\"p1027\",\"attributes\":{\"mantissas\":[1,2,5]}},\"formatter\":{\"type\":\"object\",\"name\":\"BasicTickFormatter\",\"id\":\"p1026\"},\"axis_label\":\"Income Per Person\",\"major_label_policy\":{\"type\":\"object\",\"name\":\"AllLabels\",\"id\":\"p1025\"}}}],\"center\":[{\"type\":\"object\",\"name\":\"Grid\",\"id\":\"p1030\",\"attributes\":{\"axis\":{\"id\":\"p1024\"}}},{\"type\":\"object\",\"name\":\"Grid\",\"id\":\"p1037\",\"attributes\":{\"dimension\":1,\"axis\":{\"id\":\"p1031\"}}},{\"type\":\"object\",\"name\":\"Legend\",\"id\":\"p1062\",\"attributes\":{\"location\":\"bottom_right\",\"items\":[{\"type\":\"object\",\"name\":\"LegendItem\",\"id\":\"p1063\",\"attributes\":{\"label\":{\"type\":\"field\",\"field\":\"region\"},\"renderers\":[{\"id\":\"p1059\"}]}}]}}]}}],\"callbacks\":{\"type\":\"map\"}}};\n  const render_items = [{\"docid\":\"2caa14dc-db8a-4ebc-876a-175a35ad246d\",\"roots\":{\"p1006\":\"63e8391c-f1b2-461c-8390-a471d6b5ed94\"},\"root_ids\":[\"p1006\"]}];\n  root.Bokeh.embed.embed_items_notebook(docs_json, render_items);\n  }\n  if (root.Bokeh !== undefined) {\n    embed_document(root);\n  } else {\n    let attempts = 0;\n    const timer = setInterval(function(root) {\n      if (root.Bokeh !== undefined) {\n        clearInterval(timer);\n        embed_document(root);\n      } else {\n        attempts++;\n        if (attempts > 100) {\n          clearInterval(timer);\n          console.log(\"Bokeh: ERROR: Unable to run BokehJS code because BokehJS library is missing\");\n        }\n      }\n    }, 10, root)\n  }\n})(window);",
      "application/vnd.bokehjs_exec.v0+json": ""
     },
     "metadata": {
      "application/vnd.bokehjs_exec.v0+json": {
       "id": "p1006"
      }
     },
     "output_type": "display_data"
    }
   ],
   "source": [
    "# Set the legend.location attribute of the plot\n",
    "plot.legend.location = 'bottom_right'\n",
    "\n",
    "# Set the x-axis label\n",
    "plot.xaxis.axis_label = 'Income Per Person'\n",
    "\n",
    "# Set the y-axis label\n",
    "plot.yaxis.axis_label = 'CO2 Emissions (tons per person)'\n",
    "show(plot)"
   ]
  },
  {
   "attachments": {},
   "cell_type": "markdown",
   "metadata": {},
   "source": [
    "#### Adding a hover tool"
   ]
  },
  {
   "cell_type": "code",
   "execution_count": 16,
   "metadata": {},
   "outputs": [
    {
     "data": {
      "text/html": [
       "\n",
       "  <div id=\"886cd8f6-68fb-4c8c-84cb-53b4ed8bb744\" data-root-id=\"p1006\" style=\"display: contents;\"></div>\n"
      ]
     },
     "metadata": {},
     "output_type": "display_data"
    },
    {
     "data": {
      "application/javascript": "(function(root) {\n  function embed_document(root) {\n  const docs_json = {\"83479856-b1f8-41fd-ba66-fa74a18214e7\":{\"version\":\"3.1.0\",\"title\":\"Bokeh Application\",\"defs\":[],\"roots\":[{\"type\":\"object\",\"name\":\"Figure\",\"id\":\"p1006\",\"attributes\":{\"width\":1000,\"x_range\":{\"type\":\"object\",\"name\":\"Range1d\",\"id\":\"p1016\",\"attributes\":{\"start\":142.0,\"end\":182668.0}},\"y_range\":{\"type\":\"object\",\"name\":\"Range1d\",\"id\":\"p1018\",\"attributes\":{\"end\":101.0}},\"x_scale\":{\"type\":\"object\",\"name\":\"LinearScale\",\"id\":\"p1020\"},\"y_scale\":{\"type\":\"object\",\"name\":\"LogScale\",\"id\":\"p1022\"},\"title\":{\"type\":\"object\",\"name\":\"Title\",\"id\":\"p1009\",\"attributes\":{\"text\":\"CO2 Emissions vs GDP in 1964\"}},\"renderers\":[{\"type\":\"object\",\"name\":\"GlyphRenderer\",\"id\":\"p1059\",\"attributes\":{\"data_source\":{\"type\":\"object\",\"name\":\"ColumnDataSource\",\"id\":\"p1003\",\"attributes\":{\"selected\":{\"type\":\"object\",\"name\":\"Selection\",\"id\":\"p1004\",\"attributes\":{\"indices\":[],\"line_indices\":[]}},\"selection_policy\":{\"type\":\"object\",\"name\":\"UnionRenderers\",\"id\":\"p1005\"},\"data\":{\"type\":\"map\",\"entries\":[[\"x\",{\"type\":\"ndarray\",\"array\":{\"type\":\"bytes\",\"data\":\"AAAAAAB4kkAAAAAAAJ6nQAAAAAAAPbZAAAAAAADdsUAAAAAAAJCzQAAAAACAEcBAAAAAAAAOpkAAAAAAAHHPQAAAAACALctAAAAAAAB3tkAAAAAAALzRQAAAAADAK9hAAAAAAADIkUAAAAAAADG2QAAAAAAABbFAAAAAAIBJzUAAAAAAAISgQAAAAAAAHJJAAAAAAAA2p0AAAAAAAGOyQAAAAAAgfPBAAAAAAADet0AAAAAAADiGQAAAAAAA2IJAAAAAAAAwmEAAAAAAANidQAAAAAAAFNBAAAAAAAD4i0AAAAAAAASWQAAAAAAAiblAAAAAAABIhkAAAAAAAEqtQAAAAAAA+JRAAAAAAAB4oEAAAAAAANShQAAAAAAAj7FAAAAAAADgqUAAAAAAgO3BQAAAAAAAo7lAAAAAAADN0UAAAAAAAOisQAAAAAAAsrJAAAAAAAAWo0AAAAAAAOmxQAAAAAAARJBAAAAAAADQhUAAAAAAAK6sQAAAAACAMshAAAAAAIBIy0AAAAAAACyjQAAAAAAAgJRAAAAAAAD2rEAAAAAAALPQQAAAAAAAJKJAAAAAAIACwEAAAAAAABiiQAAAAAAAFK1AAAAAAAAwi0AAAAAAAICWQAAAAAAAuKhAAAAAAACgn0AAAAAAAC6kQAAAAACApcVAAAAAAABFykAAAAAAAJSRQAAAAAAAeJpAAAAAAAAsuEAAAAAAAJW6QAAAAACA/8FAAAAAAADYv0AAAAAAgBvIQAAAAAAATbdAAAAAAABVukAAAAAAALS1QAAAAAAAZcJAAAAAAAAInkAAAAAAAJ6kQAAAAADAl9xAAAAAAIATw0AAAAAAAByUQAAAAADAv91AAAAAAAD0xEAAAAAAwKTYQAAAAAAAwqFAAAAAAABweEAAAAAAAPiIQAAAAAAAHKZAAAAAAACcoUAAAAAAAAyqQAAAAAAAhbtAAAAAAABCsEAAAAAAAJyVQAAAAAAA4J9AAAAAAADggEAAAAAAADiVQAAAAAAAUI9AAAAAAACyzUAAAAAAQGvRQAAAAAAAt7VAAAAAAAB0lkAAAAAAALatQAAAAACAsdFAAAAAAAArtUAAAAAAANCVQAAAAAAA9LJAAAAAAACwlEAAAAAAALaoQAAAAAAAC7hAAAAAAAASpkAAAAAAAKa7QAAAAAAA9rpAAAAAAOBj40AAAAAAAFi9QAAAAAAAHsdAAAAAAACgf0AAAAAAAFSrQAAAAAAALJpAAAAAAMAy0EAAAAAAAIygQAAAAAAArrhAAAAAAADUlEAAAAAAAO21QAAAAACA18FAAAAAAACYkkAAAAAAAKyRQAAAAAAAlsFAAAAAAIDRwEAAAAAAAEScQAAAAAAAnKBAAAAAAADivUAAAAAAADKlQAAAAACAANJAAAAAAIAp3kAAAAAAAJymQAAAAAAAcq1AAAAAAABgkkAAAAAAAPSaQAAAAAAALJdAAAAAAAAomUAAAAAAAEnCQAAAAAAAHqRAAAAAAACwtEAAAAAAABC/QAAAAAAAKI5AAAAAAABfuEAAAAAAAJ2zQAAAAACAbc1AAAAAAIDc00AAAAAAANy9QAAAAAAAmKRAAAAAAABEmEAAAAAAgO7KQAAAAAAAFJRAAAAAAAAcqUAAAAAAAOCeQA==\"},\"shape\":[155],\"dtype\":\"float64\",\"order\":\"little\"}],[\"y\",{\"type\":\"ndarray\",\"array\":{\"type\":\"bytes\",\"data\":\"nRGlvcEXtj9xPQrXo3DxP3E9CtejcN0/7nw/NV66yT+kcD0K16P4P1K4HoXrUQRAMzMzMzMz9z+amZmZmZkjQHsUrkfhehVAAAAAAAAAG0A9CtejcD0gQHsUrkfheiFAKVyPwvUorD9QjZduEoPoPwrXo3A9ChZAAAAAAAAAJkCTGARWDi3qP44G8BZIUKw/WDm0yHa+1z+R7Xw/NV7mP+xRuB6F6wtAAAAAAAAAFUCu2F92Tx6WP3ZxGw3gLZA/uECC4seYqz9UdCSX/5CuP5qZmZmZmShA+FPjpZvEwD8IrBxaZDufP6RwPQrXowBALbKd76fG4z+4HoXrUbjyP9nO91Pjpas/wcqhRbbzvT8ZBFYOLbLNP39qvHSTGNw/BoGVQ4tsxz9xPQrXo3D9P65H4XoUrvs/SOF6FK5HIkBKDAIrhxbpP4ts5/up8do/XrpJDAIr6z+cxCCwcmjZPw+cM6K0N7g/0m9fB84ZkT9oke18PzXuPxSuR+F6FBRAhetRuB6FHECyne+nxkvXP77BFyZTBbM/j8L1KFyP/j+amZmZmZkpQClcj8L1KMw/H4XrUbge+T/ByqFFtvPNP1YOLbKd79c/WmQ730+Nxz/DZKpgVFK3P1K4HoXrUfA/GlHaG3xhsj99PzVeuknUP6RwPQrXoxhApHA9CtejG0Atsp3vp8bTPx1aZDvfT80/XI/C9Shc/z/sUbgehevxPwAAAAAAABRA7FG4HoXrDUBxPQrXo3ALQM3MzMzMzAJAhetRuB6FDUAUrkfhehTyPzMzMzMzMyhA2c73U+Ol0z9CYOXQItvZP83MzMzMzE1AmpmZmZmZ+T9I4XoUrkfZP0a28/3UeNk/MzMzMzMzEEDNzMzMzMxCQHuDL0ymCrY/pb3BFyZTtT/8qfHSTWKgP/YoXI/C9fg/CKwcWmQ7vz83iUFg5dDaP4XrUbgehfs/cT0K16NwC0BmZmZmZmb+P9Ei2/l+atQ/SgwCK4cW0T8AAAAAAADAP3npJjEIrIw/hetRuB4FIEBSuB6F61EUQLx0kxgEVt4/3bWEfNCzmT+LbOf7qfHCP4XrUbgehRFAf/s6cM6Ikj8j2/l+arzUP166SQwCK+8/CKwcWmQ7vz89CtejcD3KP3E9CtejcPE/MQisHFpk2z9SuB6F61EfQK5H4XoUrvM/mpmZmZk5V0AAAAAAAAAOQD0K16NwvSFA4JwRpb3Bhz85tMh2vp/KPxfZzvdT48U/KVyPwvUo+D9QjZduEoPQP8/3U+Olm8Q/AAAAAAAAwD8pXI/C9SgAQHsUrkfheiJARIts5/upwT9N845TdCSnP6RwPQrXoxhAKVyPwvUoAEDhehSuR+HKP9V46SYxCMw/7FG4HoXr/T+Sy39Iv32dP3E9CtejcB9ArkfhehSuE0DhehSuR+HqPxSuR+F6FPo/1CtlGeJYtz9g5dAi2/nOPxZqTfOOU7Q/L90kBoGVwz/NzMzMzMwQQC2yne+nxuM/rBxaZDvf6z9I4XoUrkcjQJf/kH77OrA/H4XrUbgeHkBMN4lBYOXAP5qZmZmZmSZAAAAAAACAMEBcj8L1KFz7P3E9CtejcBhA2c73U+Ol6z/hehSuR+EXQCUGgZVDi9Q/ke18PzVe7j/NzMzMzMzwPw==\"},\"shape\":[155],\"dtype\":\"float64\",\"order\":\"little\"}],[\"country\",{\"type\":\"ndarray\",\"array\":[\"Afghanistan\",\"Albania\",\"Algeria\",\"Angola\",\"Antigua and Barbuda\",\"Argentina\",\"Armenia\",\"Australia\",\"Austria\",\"Azerbaijan\",\"Bahamas\",\"Bahrain\",\"Bangladesh\",\"Barbados\",\"Belarus\",\"Belgium\",\"Belize\",\"Benin\",\"Bolivia\",\"Brazil\",\"Brunei\",\"Bulgaria\",\"Burkina Faso\",\"Burundi\",\"Cambodia\",\"Cameroon\",\"Canada\",\"Cape Verde\",\"Chad\",\"Chile\",\"China\",\"Colombia\",\"Comoros\",\"Congo, Dem. Rep.\",\"Congo, Rep.\",\"Costa Rica\",\"Cote d'Ivoire\",\"Cuba\",\"Cyprus\",\"Denmark\",\"Djibouti\",\"Ecuador\",\"Egypt\",\"El Salvador\",\"Equatorial Guinea\",\"Ethiopia\",\"Fiji\",\"Finland\",\"France\",\"Gabon\",\"Gambia\",\"Georgia\",\"Germany\",\"Ghana\",\"Greece\",\"Grenada\",\"Guatemala\",\"Guinea\",\"Guinea-Bissau\",\"Guyana\",\"Haiti\",\"Honduras\",\"Hungary\",\"Iceland\",\"India\",\"Indonesia\",\"Iran\",\"Iraq\",\"Ireland\",\"Israel\",\"Italy\",\"Jamaica\",\"Japan\",\"Jordan\",\"Kazakhstan\",\"Kenya\",\"Kiribati\",\"Kuwait\",\"Lebanon\",\"Liberia\",\"Libya\",\"Lithuania\",\"Luxembourg\",\"Madagascar\",\"Malawi\",\"Mali\",\"Malta\",\"Mauritania\",\"Mauritius\",\"Mexico\",\"Moldova\",\"Mongolia\",\"Morocco\",\"Mozambique\",\"Myanmar\",\"Nepal\",\"Netherlands\",\"New Zealand\",\"Nicaragua\",\"Niger\",\"Nigeria\",\"Norway\",\"Oman\",\"Pakistan\",\"Panama\",\"Papua New Guinea\",\"Paraguay\",\"Peru\",\"Philippines\",\"Poland\",\"Portugal\",\"Qatar\",\"Romania\",\"Russia\",\"Rwanda\",\"Samoa\",\"Sao Tome and Principe\",\"Saudi Arabia\",\"Senegal\",\"Seychelles\",\"Sierra Leone\",\"Singapore\",\"Slovak Republic\",\"Solomon Islands\",\"Somalia\",\"South Africa\",\"Spain\",\"Sri Lanka\",\"Sudan\",\"Suriname\",\"Swaziland\",\"Sweden\",\"Switzerland\",\"Syria\",\"Tajikistan\",\"Tanzania\",\"Thailand\",\"Togo\",\"Tonga\",\"Trinidad and Tobago\",\"Tunisia\",\"Turkey\",\"Turkmenistan\",\"Uganda\",\"Ukraine\",\"United Arab Emirates\",\"United Kingdom\",\"United States\",\"Uruguay\",\"Uzbekistan\",\"Vanuatu\",\"Venezuela\",\"Vietnam\",\"Zambia\",\"Zimbabwe\"],\"shape\":[155],\"dtype\":\"object\",\"order\":\"little\"}],[\"region\",{\"type\":\"ndarray\",\"array\":[\"South Asia\",\"Europe & Central Asia\",\"Middle East & North Africa\",\"Sub-Saharan Africa\",\"America\",\"America\",\"Europe & Central Asia\",\"East Asia & Pacific\",\"Europe & Central Asia\",\"Europe & Central Asia\",\"America\",\"Middle East & North Africa\",\"South Asia\",\"America\",\"Europe & Central Asia\",\"Europe & Central Asia\",\"America\",\"Sub-Saharan Africa\",\"America\",\"America\",\"East Asia & Pacific\",\"Europe & Central Asia\",\"Sub-Saharan Africa\",\"Sub-Saharan Africa\",\"East Asia & Pacific\",\"Sub-Saharan Africa\",\"America\",\"Sub-Saharan Africa\",\"Sub-Saharan Africa\",\"America\",\"East Asia & Pacific\",\"America\",\"Sub-Saharan Africa\",\"Sub-Saharan Africa\",\"Sub-Saharan Africa\",\"America\",\"Sub-Saharan Africa\",\"America\",\"Europe & Central Asia\",\"Europe & Central Asia\",\"Middle East & North Africa\",\"America\",\"Middle East & North Africa\",\"America\",\"Sub-Saharan Africa\",\"Sub-Saharan Africa\",\"East Asia & Pacific\",\"Europe & Central Asia\",\"Europe & Central Asia\",\"Sub-Saharan Africa\",\"Sub-Saharan Africa\",\"Europe & Central Asia\",\"Europe & Central Asia\",\"Sub-Saharan Africa\",\"Europe & Central Asia\",\"America\",\"America\",\"Sub-Saharan Africa\",\"Sub-Saharan Africa\",\"America\",\"America\",\"America\",\"Europe & Central Asia\",\"Europe & Central Asia\",\"South Asia\",\"East Asia & Pacific\",\"Middle East & North Africa\",\"Middle East & North Africa\",\"Europe & Central Asia\",\"Middle East & North Africa\",\"Europe & Central Asia\",\"America\",\"East Asia & Pacific\",\"Middle East & North Africa\",\"Europe & Central Asia\",\"Sub-Saharan Africa\",\"East Asia & Pacific\",\"Middle East & North Africa\",\"Middle East & North Africa\",\"Sub-Saharan Africa\",\"Middle East & North Africa\",\"Europe & Central Asia\",\"Europe & Central Asia\",\"Sub-Saharan Africa\",\"Sub-Saharan Africa\",\"Sub-Saharan Africa\",\"Europe & Central Asia\",\"Sub-Saharan Africa\",\"Sub-Saharan Africa\",\"America\",\"Europe & Central Asia\",\"East Asia & Pacific\",\"Middle East & North Africa\",\"Sub-Saharan Africa\",\"East Asia & Pacific\",\"South Asia\",\"Europe & Central Asia\",\"East Asia & Pacific\",\"America\",\"Sub-Saharan Africa\",\"Sub-Saharan Africa\",\"Europe & Central Asia\",\"Middle East & North Africa\",\"South Asia\",\"America\",\"East Asia & Pacific\",\"America\",\"America\",\"East Asia & Pacific\",\"Europe & Central Asia\",\"Europe & Central Asia\",\"Middle East & North Africa\",\"Europe & Central Asia\",\"Europe & Central Asia\",\"Sub-Saharan Africa\",\"East Asia & Pacific\",\"Sub-Saharan Africa\",\"Middle East & North Africa\",\"Sub-Saharan Africa\",\"Sub-Saharan Africa\",\"Sub-Saharan Africa\",\"East Asia & Pacific\",\"Europe & Central Asia\",\"East Asia & Pacific\",\"Sub-Saharan Africa\",\"Sub-Saharan Africa\",\"Europe & Central Asia\",\"South Asia\",\"Sub-Saharan Africa\",\"America\",\"Sub-Saharan Africa\",\"Europe & Central Asia\",\"Europe & Central Asia\",\"Middle East & North Africa\",\"Europe & Central Asia\",\"Sub-Saharan Africa\",\"East Asia & Pacific\",\"Sub-Saharan Africa\",\"East Asia & Pacific\",\"America\",\"Middle East & North Africa\",\"Europe & Central Asia\",\"Europe & Central Asia\",\"Sub-Saharan Africa\",\"Europe & Central Asia\",\"Middle East & North Africa\",\"Europe & Central Asia\",\"America\",\"America\",\"Europe & Central Asia\",\"East Asia & Pacific\",\"America\",\"East Asia & Pacific\",\"Sub-Saharan Africa\",\"Sub-Saharan Africa\"],\"shape\":[155],\"dtype\":\"object\",\"order\":\"little\"}]]}}},\"view\":{\"type\":\"object\",\"name\":\"CDSView\",\"id\":\"p1060\",\"attributes\":{\"filter\":{\"type\":\"object\",\"name\":\"AllIndices\",\"id\":\"p1061\"}}},\"glyph\":{\"type\":\"object\",\"name\":\"Circle\",\"id\":\"p1056\",\"attributes\":{\"x\":{\"type\":\"field\",\"field\":\"x\"},\"y\":{\"type\":\"field\",\"field\":\"y\"},\"size\":{\"type\":\"value\",\"value\":7},\"line_color\":{\"type\":\"field\",\"field\":\"region\",\"transform\":{\"type\":\"object\",\"name\":\"CategoricalColorMapper\",\"id\":\"p1002\",\"attributes\":{\"palette\":[\"#3288bd\",\"#99d594\",\"#e6f598\",\"#fee08b\",\"#fc8d59\",\"#d53e4f\"],\"factors\":[\"South Asia\",\"Europe & Central Asia\",\"Middle East & North Africa\",\"Sub-Saharan Africa\",\"America\",\"East Asia & Pacific\"]}}},\"fill_color\":{\"type\":\"field\",\"field\":\"region\",\"transform\":{\"id\":\"p1002\"}},\"fill_alpha\":{\"type\":\"value\",\"value\":0.8},\"hatch_color\":{\"type\":\"field\",\"field\":\"region\",\"transform\":{\"id\":\"p1002\"}}}},\"nonselection_glyph\":{\"type\":\"object\",\"name\":\"Circle\",\"id\":\"p1057\",\"attributes\":{\"x\":{\"type\":\"field\",\"field\":\"x\"},\"y\":{\"type\":\"field\",\"field\":\"y\"},\"size\":{\"type\":\"value\",\"value\":7},\"line_color\":{\"type\":\"field\",\"field\":\"region\",\"transform\":{\"id\":\"p1002\"}},\"line_alpha\":{\"type\":\"value\",\"value\":0.1},\"fill_color\":{\"type\":\"field\",\"field\":\"region\",\"transform\":{\"id\":\"p1002\"}},\"fill_alpha\":{\"type\":\"value\",\"value\":0.1},\"hatch_color\":{\"type\":\"field\",\"field\":\"region\",\"transform\":{\"id\":\"p1002\"}},\"hatch_alpha\":{\"type\":\"value\",\"value\":0.1}}},\"muted_glyph\":{\"type\":\"object\",\"name\":\"Circle\",\"id\":\"p1058\",\"attributes\":{\"x\":{\"type\":\"field\",\"field\":\"x\"},\"y\":{\"type\":\"field\",\"field\":\"y\"},\"size\":{\"type\":\"value\",\"value\":7},\"line_color\":{\"type\":\"field\",\"field\":\"region\",\"transform\":{\"id\":\"p1002\"}},\"line_alpha\":{\"type\":\"value\",\"value\":0.2},\"fill_color\":{\"type\":\"field\",\"field\":\"region\",\"transform\":{\"id\":\"p1002\"}},\"fill_alpha\":{\"type\":\"value\",\"value\":0.2},\"hatch_color\":{\"type\":\"field\",\"field\":\"region\",\"transform\":{\"id\":\"p1002\"}},\"hatch_alpha\":{\"type\":\"value\",\"value\":0.2}}}}}],\"toolbar\":{\"type\":\"object\",\"name\":\"Toolbar\",\"id\":\"p1011\",\"attributes\":{\"tools\":[{\"type\":\"object\",\"name\":\"PanTool\",\"id\":\"p1038\"},{\"type\":\"object\",\"name\":\"WheelZoomTool\",\"id\":\"p1039\"},{\"type\":\"object\",\"name\":\"BoxZoomTool\",\"id\":\"p1040\",\"attributes\":{\"overlay\":{\"type\":\"object\",\"name\":\"BoxAnnotation\",\"id\":\"p1041\",\"attributes\":{\"syncable\":false,\"level\":\"overlay\",\"visible\":false,\"left_units\":\"canvas\",\"right_units\":\"canvas\",\"bottom_units\":\"canvas\",\"top_units\":\"canvas\",\"line_color\":\"black\",\"line_alpha\":1.0,\"line_width\":2,\"line_dash\":[4,4],\"fill_color\":\"lightgrey\",\"fill_alpha\":0.5}}}},{\"type\":\"object\",\"name\":\"SaveTool\",\"id\":\"p1042\"},{\"type\":\"object\",\"name\":\"ResetTool\",\"id\":\"p1043\"},{\"type\":\"object\",\"name\":\"HelpTool\",\"id\":\"p1044\"},{\"type\":\"object\",\"name\":\"HoverTool\",\"id\":\"p1148\",\"attributes\":{\"renderers\":\"auto\",\"tooltips\":[[\"Country\",\"@country\"],[\"GDP\",\"@x\"],[\"CO2 Emission\",\"@y\"]]}}]}},\"left\":[{\"type\":\"object\",\"name\":\"LogAxis\",\"id\":\"p1031\",\"attributes\":{\"ticker\":{\"type\":\"object\",\"name\":\"LogTicker\",\"id\":\"p1034\",\"attributes\":{\"num_minor_ticks\":10,\"mantissas\":[1,5]}},\"formatter\":{\"type\":\"object\",\"name\":\"LogTickFormatter\",\"id\":\"p1033\"},\"axis_label\":\"CO2 Emissions (tons per person)\",\"major_label_policy\":{\"type\":\"object\",\"name\":\"AllLabels\",\"id\":\"p1032\"}}}],\"below\":[{\"type\":\"object\",\"name\":\"LinearAxis\",\"id\":\"p1024\",\"attributes\":{\"ticker\":{\"type\":\"object\",\"name\":\"BasicTicker\",\"id\":\"p1027\",\"attributes\":{\"mantissas\":[1,2,5]}},\"formatter\":{\"type\":\"object\",\"name\":\"BasicTickFormatter\",\"id\":\"p1026\"},\"axis_label\":\"Income Per Person\",\"major_label_policy\":{\"type\":\"object\",\"name\":\"AllLabels\",\"id\":\"p1025\"}}}],\"center\":[{\"type\":\"object\",\"name\":\"Grid\",\"id\":\"p1030\",\"attributes\":{\"axis\":{\"id\":\"p1024\"}}},{\"type\":\"object\",\"name\":\"Grid\",\"id\":\"p1037\",\"attributes\":{\"dimension\":1,\"axis\":{\"id\":\"p1031\"}}},{\"type\":\"object\",\"name\":\"Legend\",\"id\":\"p1062\",\"attributes\":{\"location\":\"bottom_right\",\"items\":[{\"type\":\"object\",\"name\":\"LegendItem\",\"id\":\"p1063\",\"attributes\":{\"label\":{\"type\":\"field\",\"field\":\"region\"},\"renderers\":[{\"id\":\"p1059\"}]}}]}}]}}],\"callbacks\":{\"type\":\"map\"}}};\n  const render_items = [{\"docid\":\"83479856-b1f8-41fd-ba66-fa74a18214e7\",\"roots\":{\"p1006\":\"886cd8f6-68fb-4c8c-84cb-53b4ed8bb744\"},\"root_ids\":[\"p1006\"]}];\n  root.Bokeh.embed.embed_items_notebook(docs_json, render_items);\n  }\n  if (root.Bokeh !== undefined) {\n    embed_document(root);\n  } else {\n    let attempts = 0;\n    const timer = setInterval(function(root) {\n      if (root.Bokeh !== undefined) {\n        clearInterval(timer);\n        embed_document(root);\n      } else {\n        attempts++;\n        if (attempts > 100) {\n          clearInterval(timer);\n          console.log(\"Bokeh: ERROR: Unable to run BokehJS code because BokehJS library is missing\");\n        }\n      }\n    }, 10, root)\n  }\n})(window);",
      "application/vnd.bokehjs_exec.v0+json": ""
     },
     "metadata": {
      "application/vnd.bokehjs_exec.v0+json": {
       "id": "p1006"
      }
     },
     "output_type": "display_data"
    }
   ],
   "source": [
    "# Create a HoverTool - will allow the user to hover above a datapoint to see the name of the country, CO2 emissions nd GDP\n",
    "hover = HoverTool(tooltips=[('Country', '@country'), ('GDP', '@x'), ('CO2 Emission', '@y')])\n",
    "\n",
    "# Add the HoverTool to the plot\n",
    "plot.add_tools(hover)\n",
    "\n",
    "show(plot)"
   ]
  },
  {
   "attachments": {},
   "cell_type": "markdown",
   "metadata": {},
   "source": [
    "#### Adding a slider to the static plot"
   ]
  },
  {
   "cell_type": "code",
   "execution_count": null,
   "metadata": {},
   "outputs": [],
   "source": [
    "# Make a slider object: slider\n",
    "# Set the start as the 1st year and the end as the last year in the year column\n",
    "# Set step as 1 and the value as the minimum value of the year column\n",
    "slider = Slider(start=min(data.year), end=max(data.year), step=1, value=min(data.year), title='Year')\n",
    "\n",
    "# create function that will update the plot every time the silider is moved\n",
    "def update_plot(attr, old, new):\n",
    "    # set the `yr` name to `slider.value` and `source.data = new_data`\n",
    "    yr = slider.value\n",
    "\n",
    "    new_data = {\n",
    "        'x': data.gdp[data['year'] == yr],\n",
    "        'y': data.co2[data['year'] == yr],\n",
    "        'country': data.country[data['year'] == yr],\n",
    "        'region': data.region[data['year'] == yr],\n",
    "    }\n",
    "    source.data = new_data\n",
    "\n",
    "    # Add title to figure: plot.title.text\n",
    "    plot.title.text = 'CO2 Emissions vs GDP in %d' % yr\n",
    "\n",
    "\n",
    "# Attach the callback to the 'value' property of slider\n",
    "slider.on_change('value', update_plot)\n",
    "\n",
    "show(plot)"
   ]
  },
  {
   "cell_type": "code",
   "execution_count": null,
   "metadata": {},
   "outputs": [],
   "source": [
    "layout = row(Column(slider), plot)\n",
    "curdoc().add_root(layout)"
   ]
  },
  {
   "attachments": {},
   "cell_type": "markdown",
   "metadata": {},
   "source": [
    "#### Now open the terminal command line and change the dir to the folder that contains this jupyter notebook. Type the following command and wait until the plot is displayed in your web browser:\n",
    "\n",
    "> bokeh serve --show Interactive_plots.ipynb"
   ]
  },
  {
   "attachments": {},
   "cell_type": "markdown",
   "metadata": {},
   "source": [
    "### 2. Plotly\n",
    "\n",
    "`plotly` is a very popular Python module used to create interactive data visualizations. It is a JSON-based plotting tool, and so every plot is defined by 2 JSON objects - data and layout. \n",
    "\n",
    "A simplified and more user friendly version of `plotly` is `plotly express` which is provides a high-level wrapper around the base `plotly code, resulting in a minimized syntax abd commands.\n",
    "\n",
    "#### Creating an interactive scatter plot\n",
    "\n",
    "We will use the same dataset created for Bokeh in the previous example."
   ]
  },
  {
   "cell_type": "code",
   "execution_count": 18,
   "metadata": {},
   "outputs": [],
   "source": [
    "# Save the minimum and maximum values of the gdp column: xmin, xmax\n",
    "xmin, xmax = min(data.gdp), max(data.gdp)\n",
    "# Save the minimum and maximum values of the co2 column: ymin, ymax\n",
    "ymin, ymax = min(data.co2), max(data.co2)"
   ]
  },
  {
   "cell_type": "code",
   "execution_count": null,
   "metadata": {},
   "outputs": [],
   "source": [
    "import pandas as pd\n",
    "import plotly.express as px\n",
    "\n",
    "fig = px.scatter(data, x=\"gdp\", y=\"co2\", animation_frame=\"year\", animation_group=\"country\",\n",
    "           color=\"region\", hover_name=\"country\", facet_col=\"region\", width=1579, height=400,\n",
    "           log_x=True, size_max=45, range_x=[xmin,xmax], range_y=[ymin,ymax])\n",
    "\n",
    "fig.show()"
   ]
  },
  {
   "cell_type": "code",
   "execution_count": null,
   "metadata": {},
   "outputs": [],
   "source": [
    "# Aggregate in a single plot (by removing facet_col=\"region\") and add rug and boxplot.\n",
    "fig = px.scatter(data, x=\"gdp\", y=\"co2\", animation_frame=\"year\", \n",
    "        color=\"region\", hover_name=\"country\", width=1000, height=600,\n",
    "        size_max=45, range_x=[xmin,xmax], range_y=[ymin,ymax], \n",
    "        marginal_y = 'box', marginal_x = 'rug') # add a boxplot in the left side and rug plot on top\n",
    "\n",
    "fig.show()"
   ]
  },
  {
   "cell_type": "code",
   "execution_count": null,
   "metadata": {},
   "outputs": [],
   "source": [
    "# N0w using a density contour plot instead of a scatter plot\n",
    "fig = px.density_contour(data, x=\"gdp\", y=\"co2\", animation_frame=\"year\", \n",
    "        color=\"region\", hover_name=\"country\", width=1000, height=600,\n",
    "        range_x=[xmin,xmax], range_y=[ymin,ymax], \n",
    "        marginal_y = 'box', marginal_x = 'rug') # add a boxplot in the left side and rug plot on top\n",
    "\n",
    "fig.show()"
   ]
  },
  {
   "cell_type": "code",
   "execution_count": null,
   "metadata": {},
   "outputs": [],
   "source": [
    "fig = px.scatter(data, x=\"year\", y=\"co2\", color=\"region\", hover_name=\"country\", width=1000, height=500,\n",
    "           size_max=45, marginal_y = 'box')\n",
    "\n",
    "fig.show()"
   ]
  },
  {
   "attachments": {},
   "cell_type": "markdown",
   "metadata": {},
   "source": [
    "#### Visualizing an output of Principal Component Analysis\n",
    "\n",
    "##### Example using the `Iris` dataset"
   ]
  },
  {
   "cell_type": "code",
   "execution_count": 23,
   "metadata": {},
   "outputs": [],
   "source": [
    "import numpy as np\n",
    "import pandas as pd\n",
    "import matplotlib.pyplot as plt\n",
    "import plotly.express as px\n",
    "from sklearn.preprocessing import StandardScaler\n",
    "from sklearn.decomposition import PCA"
   ]
  },
  {
   "cell_type": "code",
   "execution_count": 24,
   "metadata": {},
   "outputs": [
    {
     "data": {
      "application/vnd.plotly.v1+json": {
       "config": {
        "plotlyServerURL": "https://plot.ly"
       },
       "data": [
        {
         "diagonal": {
          "visible": false
         },
         "dimensions": [
          {
           "axis": {
            "matches": true
           },
           "label": "sepal_width",
           "values": [
            3.5,
            3,
            3.2,
            3.1,
            3.6,
            3.9,
            3.4,
            3.4,
            2.9,
            3.1,
            3.7,
            3.4,
            3,
            3,
            4,
            4.4,
            3.9,
            3.5,
            3.8,
            3.8,
            3.4,
            3.7,
            3.6,
            3.3,
            3.4,
            3,
            3.4,
            3.5,
            3.4,
            3.2,
            3.1,
            3.4,
            4.1,
            4.2,
            3.1,
            3.2,
            3.5,
            3.1,
            3,
            3.4,
            3.5,
            2.3,
            3.2,
            3.5,
            3.8,
            3,
            3.8,
            3.2,
            3.7,
            3.3
           ]
          },
          {
           "axis": {
            "matches": true
           },
           "label": "sepal_length",
           "values": [
            5.1,
            4.9,
            4.7,
            4.6,
            5,
            5.4,
            4.6,
            5,
            4.4,
            4.9,
            5.4,
            4.8,
            4.8,
            4.3,
            5.8,
            5.7,
            5.4,
            5.1,
            5.7,
            5.1,
            5.4,
            5.1,
            4.6,
            5.1,
            4.8,
            5,
            5,
            5.2,
            5.2,
            4.7,
            4.8,
            5.4,
            5.2,
            5.5,
            4.9,
            5,
            5.5,
            4.9,
            4.4,
            5.1,
            5,
            4.5,
            4.4,
            5,
            5.1,
            4.8,
            5.1,
            4.6,
            5.3,
            5
           ]
          },
          {
           "axis": {
            "matches": true
           },
           "label": "petal_width",
           "values": [
            0.2,
            0.2,
            0.2,
            0.2,
            0.2,
            0.4,
            0.3,
            0.2,
            0.2,
            0.1,
            0.2,
            0.2,
            0.1,
            0.1,
            0.2,
            0.4,
            0.4,
            0.3,
            0.3,
            0.3,
            0.2,
            0.4,
            0.2,
            0.5,
            0.2,
            0.2,
            0.4,
            0.2,
            0.2,
            0.2,
            0.2,
            0.4,
            0.1,
            0.2,
            0.1,
            0.2,
            0.2,
            0.1,
            0.2,
            0.2,
            0.3,
            0.3,
            0.2,
            0.6,
            0.4,
            0.3,
            0.2,
            0.2,
            0.2,
            0.2
           ]
          },
          {
           "axis": {
            "matches": true
           },
           "label": "petal_length",
           "values": [
            1.4,
            1.4,
            1.3,
            1.5,
            1.4,
            1.7,
            1.4,
            1.5,
            1.4,
            1.5,
            1.5,
            1.6,
            1.4,
            1.1,
            1.2,
            1.5,
            1.3,
            1.4,
            1.7,
            1.5,
            1.7,
            1.5,
            1,
            1.7,
            1.9,
            1.6,
            1.6,
            1.5,
            1.4,
            1.6,
            1.6,
            1.5,
            1.5,
            1.4,
            1.5,
            1.2,
            1.3,
            1.5,
            1.3,
            1.5,
            1.3,
            1.3,
            1.3,
            1.6,
            1.9,
            1.4,
            1.6,
            1.4,
            1.5,
            1.4
           ]
          }
         ],
         "hovertemplate": "species=setosa<br>%{xaxis.title.text}=%{x}<br>%{yaxis.title.text}=%{y}<extra></extra>",
         "legendgroup": "setosa",
         "marker": {
          "color": "#636efa",
          "symbol": "circle"
         },
         "name": "setosa",
         "showlegend": true,
         "type": "splom"
        },
        {
         "diagonal": {
          "visible": false
         },
         "dimensions": [
          {
           "axis": {
            "matches": true
           },
           "label": "sepal_width",
           "values": [
            3.2,
            3.2,
            3.1,
            2.3,
            2.8,
            2.8,
            3.3,
            2.4,
            2.9,
            2.7,
            2,
            3,
            2.2,
            2.9,
            2.9,
            3.1,
            3,
            2.7,
            2.2,
            2.5,
            3.2,
            2.8,
            2.5,
            2.8,
            2.9,
            3,
            2.8,
            3,
            2.9,
            2.6,
            2.4,
            2.4,
            2.7,
            2.7,
            3,
            3.4,
            3.1,
            2.3,
            3,
            2.5,
            2.6,
            3,
            2.6,
            2.3,
            2.7,
            3,
            2.9,
            2.9,
            2.5,
            2.8
           ]
          },
          {
           "axis": {
            "matches": true
           },
           "label": "sepal_length",
           "values": [
            7,
            6.4,
            6.9,
            5.5,
            6.5,
            5.7,
            6.3,
            4.9,
            6.6,
            5.2,
            5,
            5.9,
            6,
            6.1,
            5.6,
            6.7,
            5.6,
            5.8,
            6.2,
            5.6,
            5.9,
            6.1,
            6.3,
            6.1,
            6.4,
            6.6,
            6.8,
            6.7,
            6,
            5.7,
            5.5,
            5.5,
            5.8,
            6,
            5.4,
            6,
            6.7,
            6.3,
            5.6,
            5.5,
            5.5,
            6.1,
            5.8,
            5,
            5.6,
            5.7,
            5.7,
            6.2,
            5.1,
            5.7
           ]
          },
          {
           "axis": {
            "matches": true
           },
           "label": "petal_width",
           "values": [
            1.4,
            1.5,
            1.5,
            1.3,
            1.5,
            1.3,
            1.6,
            1,
            1.3,
            1.4,
            1,
            1.5,
            1,
            1.4,
            1.3,
            1.4,
            1.5,
            1,
            1.5,
            1.1,
            1.8,
            1.3,
            1.5,
            1.2,
            1.3,
            1.4,
            1.4,
            1.7,
            1.5,
            1,
            1.1,
            1,
            1.2,
            1.6,
            1.5,
            1.6,
            1.5,
            1.3,
            1.3,
            1.3,
            1.2,
            1.4,
            1.2,
            1,
            1.3,
            1.2,
            1.3,
            1.3,
            1.1,
            1.3
           ]
          },
          {
           "axis": {
            "matches": true
           },
           "label": "petal_length",
           "values": [
            4.7,
            4.5,
            4.9,
            4,
            4.6,
            4.5,
            4.7,
            3.3,
            4.6,
            3.9,
            3.5,
            4.2,
            4,
            4.7,
            3.6,
            4.4,
            4.5,
            4.1,
            4.5,
            3.9,
            4.8,
            4,
            4.9,
            4.7,
            4.3,
            4.4,
            4.8,
            5,
            4.5,
            3.5,
            3.8,
            3.7,
            3.9,
            5.1,
            4.5,
            4.5,
            4.7,
            4.4,
            4.1,
            4,
            4.4,
            4.6,
            4,
            3.3,
            4.2,
            4.2,
            4.2,
            4.3,
            3,
            4.1
           ]
          }
         ],
         "hovertemplate": "species=versicolor<br>%{xaxis.title.text}=%{x}<br>%{yaxis.title.text}=%{y}<extra></extra>",
         "legendgroup": "versicolor",
         "marker": {
          "color": "#EF553B",
          "symbol": "circle"
         },
         "name": "versicolor",
         "showlegend": true,
         "type": "splom"
        },
        {
         "diagonal": {
          "visible": false
         },
         "dimensions": [
          {
           "axis": {
            "matches": true
           },
           "label": "sepal_width",
           "values": [
            3.3,
            2.7,
            3,
            2.9,
            3,
            3,
            2.5,
            2.9,
            2.5,
            3.6,
            3.2,
            2.7,
            3,
            2.5,
            2.8,
            3.2,
            3,
            3.8,
            2.6,
            2.2,
            3.2,
            2.8,
            2.8,
            2.7,
            3.3,
            3.2,
            2.8,
            3,
            2.8,
            3,
            2.8,
            3.8,
            2.8,
            2.8,
            2.6,
            3,
            3.4,
            3.1,
            3,
            3.1,
            3.1,
            3.1,
            2.7,
            3.2,
            3.3,
            3,
            2.5,
            3,
            3.4,
            3
           ]
          },
          {
           "axis": {
            "matches": true
           },
           "label": "sepal_length",
           "values": [
            6.3,
            5.8,
            7.1,
            6.3,
            6.5,
            7.6,
            4.9,
            7.3,
            6.7,
            7.2,
            6.5,
            6.4,
            6.8,
            5.7,
            5.8,
            6.4,
            6.5,
            7.7,
            7.7,
            6,
            6.9,
            5.6,
            7.7,
            6.3,
            6.7,
            7.2,
            6.2,
            6.1,
            6.4,
            7.2,
            7.4,
            7.9,
            6.4,
            6.3,
            6.1,
            7.7,
            6.3,
            6.4,
            6,
            6.9,
            6.7,
            6.9,
            5.8,
            6.8,
            6.7,
            6.7,
            6.3,
            6.5,
            6.2,
            5.9
           ]
          },
          {
           "axis": {
            "matches": true
           },
           "label": "petal_width",
           "values": [
            2.5,
            1.9,
            2.1,
            1.8,
            2.2,
            2.1,
            1.7,
            1.8,
            1.8,
            2.5,
            2,
            1.9,
            2.1,
            2,
            2.4,
            2.3,
            1.8,
            2.2,
            2.3,
            1.5,
            2.3,
            2,
            2,
            1.8,
            2.1,
            1.8,
            1.8,
            1.8,
            2.1,
            1.6,
            1.9,
            2,
            2.2,
            1.5,
            1.4,
            2.3,
            2.4,
            1.8,
            1.8,
            2.1,
            2.4,
            2.3,
            1.9,
            2.3,
            2.5,
            2.3,
            1.9,
            2,
            2.3,
            1.8
           ]
          },
          {
           "axis": {
            "matches": true
           },
           "label": "petal_length",
           "values": [
            6,
            5.1,
            5.9,
            5.6,
            5.8,
            6.6,
            4.5,
            6.3,
            5.8,
            6.1,
            5.1,
            5.3,
            5.5,
            5,
            5.1,
            5.3,
            5.5,
            6.7,
            6.9,
            5,
            5.7,
            4.9,
            6.7,
            4.9,
            5.7,
            6,
            4.8,
            4.9,
            5.6,
            5.8,
            6.1,
            6.4,
            5.6,
            5.1,
            5.6,
            6.1,
            5.6,
            5.5,
            4.8,
            5.4,
            5.6,
            5.1,
            5.1,
            5.9,
            5.7,
            5.2,
            5,
            5.2,
            5.4,
            5.1
           ]
          }
         ],
         "hovertemplate": "species=virginica<br>%{xaxis.title.text}=%{x}<br>%{yaxis.title.text}=%{y}<extra></extra>",
         "legendgroup": "virginica",
         "marker": {
          "color": "#00cc96",
          "symbol": "circle"
         },
         "name": "virginica",
         "showlegend": true,
         "type": "splom"
        }
       ],
       "layout": {
        "dragmode": "select",
        "height": 700,
        "legend": {
         "title": {
          "text": "species"
         },
         "tracegroupgap": 0
        },
        "margin": {
         "t": 60
        },
        "template": {
         "data": {
          "bar": [
           {
            "error_x": {
             "color": "#2a3f5f"
            },
            "error_y": {
             "color": "#2a3f5f"
            },
            "marker": {
             "line": {
              "color": "#E5ECF6",
              "width": 0.5
             },
             "pattern": {
              "fillmode": "overlay",
              "size": 10,
              "solidity": 0.2
             }
            },
            "type": "bar"
           }
          ],
          "barpolar": [
           {
            "marker": {
             "line": {
              "color": "#E5ECF6",
              "width": 0.5
             },
             "pattern": {
              "fillmode": "overlay",
              "size": 10,
              "solidity": 0.2
             }
            },
            "type": "barpolar"
           }
          ],
          "carpet": [
           {
            "aaxis": {
             "endlinecolor": "#2a3f5f",
             "gridcolor": "white",
             "linecolor": "white",
             "minorgridcolor": "white",
             "startlinecolor": "#2a3f5f"
            },
            "baxis": {
             "endlinecolor": "#2a3f5f",
             "gridcolor": "white",
             "linecolor": "white",
             "minorgridcolor": "white",
             "startlinecolor": "#2a3f5f"
            },
            "type": "carpet"
           }
          ],
          "choropleth": [
           {
            "colorbar": {
             "outlinewidth": 0,
             "ticks": ""
            },
            "type": "choropleth"
           }
          ],
          "contour": [
           {
            "colorbar": {
             "outlinewidth": 0,
             "ticks": ""
            },
            "colorscale": [
             [
              0,
              "#0d0887"
             ],
             [
              0.1111111111111111,
              "#46039f"
             ],
             [
              0.2222222222222222,
              "#7201a8"
             ],
             [
              0.3333333333333333,
              "#9c179e"
             ],
             [
              0.4444444444444444,
              "#bd3786"
             ],
             [
              0.5555555555555556,
              "#d8576b"
             ],
             [
              0.6666666666666666,
              "#ed7953"
             ],
             [
              0.7777777777777778,
              "#fb9f3a"
             ],
             [
              0.8888888888888888,
              "#fdca26"
             ],
             [
              1,
              "#f0f921"
             ]
            ],
            "type": "contour"
           }
          ],
          "contourcarpet": [
           {
            "colorbar": {
             "outlinewidth": 0,
             "ticks": ""
            },
            "type": "contourcarpet"
           }
          ],
          "heatmap": [
           {
            "colorbar": {
             "outlinewidth": 0,
             "ticks": ""
            },
            "colorscale": [
             [
              0,
              "#0d0887"
             ],
             [
              0.1111111111111111,
              "#46039f"
             ],
             [
              0.2222222222222222,
              "#7201a8"
             ],
             [
              0.3333333333333333,
              "#9c179e"
             ],
             [
              0.4444444444444444,
              "#bd3786"
             ],
             [
              0.5555555555555556,
              "#d8576b"
             ],
             [
              0.6666666666666666,
              "#ed7953"
             ],
             [
              0.7777777777777778,
              "#fb9f3a"
             ],
             [
              0.8888888888888888,
              "#fdca26"
             ],
             [
              1,
              "#f0f921"
             ]
            ],
            "type": "heatmap"
           }
          ],
          "heatmapgl": [
           {
            "colorbar": {
             "outlinewidth": 0,
             "ticks": ""
            },
            "colorscale": [
             [
              0,
              "#0d0887"
             ],
             [
              0.1111111111111111,
              "#46039f"
             ],
             [
              0.2222222222222222,
              "#7201a8"
             ],
             [
              0.3333333333333333,
              "#9c179e"
             ],
             [
              0.4444444444444444,
              "#bd3786"
             ],
             [
              0.5555555555555556,
              "#d8576b"
             ],
             [
              0.6666666666666666,
              "#ed7953"
             ],
             [
              0.7777777777777778,
              "#fb9f3a"
             ],
             [
              0.8888888888888888,
              "#fdca26"
             ],
             [
              1,
              "#f0f921"
             ]
            ],
            "type": "heatmapgl"
           }
          ],
          "histogram": [
           {
            "marker": {
             "pattern": {
              "fillmode": "overlay",
              "size": 10,
              "solidity": 0.2
             }
            },
            "type": "histogram"
           }
          ],
          "histogram2d": [
           {
            "colorbar": {
             "outlinewidth": 0,
             "ticks": ""
            },
            "colorscale": [
             [
              0,
              "#0d0887"
             ],
             [
              0.1111111111111111,
              "#46039f"
             ],
             [
              0.2222222222222222,
              "#7201a8"
             ],
             [
              0.3333333333333333,
              "#9c179e"
             ],
             [
              0.4444444444444444,
              "#bd3786"
             ],
             [
              0.5555555555555556,
              "#d8576b"
             ],
             [
              0.6666666666666666,
              "#ed7953"
             ],
             [
              0.7777777777777778,
              "#fb9f3a"
             ],
             [
              0.8888888888888888,
              "#fdca26"
             ],
             [
              1,
              "#f0f921"
             ]
            ],
            "type": "histogram2d"
           }
          ],
          "histogram2dcontour": [
           {
            "colorbar": {
             "outlinewidth": 0,
             "ticks": ""
            },
            "colorscale": [
             [
              0,
              "#0d0887"
             ],
             [
              0.1111111111111111,
              "#46039f"
             ],
             [
              0.2222222222222222,
              "#7201a8"
             ],
             [
              0.3333333333333333,
              "#9c179e"
             ],
             [
              0.4444444444444444,
              "#bd3786"
             ],
             [
              0.5555555555555556,
              "#d8576b"
             ],
             [
              0.6666666666666666,
              "#ed7953"
             ],
             [
              0.7777777777777778,
              "#fb9f3a"
             ],
             [
              0.8888888888888888,
              "#fdca26"
             ],
             [
              1,
              "#f0f921"
             ]
            ],
            "type": "histogram2dcontour"
           }
          ],
          "mesh3d": [
           {
            "colorbar": {
             "outlinewidth": 0,
             "ticks": ""
            },
            "type": "mesh3d"
           }
          ],
          "parcoords": [
           {
            "line": {
             "colorbar": {
              "outlinewidth": 0,
              "ticks": ""
             }
            },
            "type": "parcoords"
           }
          ],
          "pie": [
           {
            "automargin": true,
            "type": "pie"
           }
          ],
          "scatter": [
           {
            "fillpattern": {
             "fillmode": "overlay",
             "size": 10,
             "solidity": 0.2
            },
            "type": "scatter"
           }
          ],
          "scatter3d": [
           {
            "line": {
             "colorbar": {
              "outlinewidth": 0,
              "ticks": ""
             }
            },
            "marker": {
             "colorbar": {
              "outlinewidth": 0,
              "ticks": ""
             }
            },
            "type": "scatter3d"
           }
          ],
          "scattercarpet": [
           {
            "marker": {
             "colorbar": {
              "outlinewidth": 0,
              "ticks": ""
             }
            },
            "type": "scattercarpet"
           }
          ],
          "scattergeo": [
           {
            "marker": {
             "colorbar": {
              "outlinewidth": 0,
              "ticks": ""
             }
            },
            "type": "scattergeo"
           }
          ],
          "scattergl": [
           {
            "marker": {
             "colorbar": {
              "outlinewidth": 0,
              "ticks": ""
             }
            },
            "type": "scattergl"
           }
          ],
          "scattermapbox": [
           {
            "marker": {
             "colorbar": {
              "outlinewidth": 0,
              "ticks": ""
             }
            },
            "type": "scattermapbox"
           }
          ],
          "scatterpolar": [
           {
            "marker": {
             "colorbar": {
              "outlinewidth": 0,
              "ticks": ""
             }
            },
            "type": "scatterpolar"
           }
          ],
          "scatterpolargl": [
           {
            "marker": {
             "colorbar": {
              "outlinewidth": 0,
              "ticks": ""
             }
            },
            "type": "scatterpolargl"
           }
          ],
          "scatterternary": [
           {
            "marker": {
             "colorbar": {
              "outlinewidth": 0,
              "ticks": ""
             }
            },
            "type": "scatterternary"
           }
          ],
          "surface": [
           {
            "colorbar": {
             "outlinewidth": 0,
             "ticks": ""
            },
            "colorscale": [
             [
              0,
              "#0d0887"
             ],
             [
              0.1111111111111111,
              "#46039f"
             ],
             [
              0.2222222222222222,
              "#7201a8"
             ],
             [
              0.3333333333333333,
              "#9c179e"
             ],
             [
              0.4444444444444444,
              "#bd3786"
             ],
             [
              0.5555555555555556,
              "#d8576b"
             ],
             [
              0.6666666666666666,
              "#ed7953"
             ],
             [
              0.7777777777777778,
              "#fb9f3a"
             ],
             [
              0.8888888888888888,
              "#fdca26"
             ],
             [
              1,
              "#f0f921"
             ]
            ],
            "type": "surface"
           }
          ],
          "table": [
           {
            "cells": {
             "fill": {
              "color": "#EBF0F8"
             },
             "line": {
              "color": "white"
             }
            },
            "header": {
             "fill": {
              "color": "#C8D4E3"
             },
             "line": {
              "color": "white"
             }
            },
            "type": "table"
           }
          ]
         },
         "layout": {
          "annotationdefaults": {
           "arrowcolor": "#2a3f5f",
           "arrowhead": 0,
           "arrowwidth": 1
          },
          "autotypenumbers": "strict",
          "coloraxis": {
           "colorbar": {
            "outlinewidth": 0,
            "ticks": ""
           }
          },
          "colorscale": {
           "diverging": [
            [
             0,
             "#8e0152"
            ],
            [
             0.1,
             "#c51b7d"
            ],
            [
             0.2,
             "#de77ae"
            ],
            [
             0.3,
             "#f1b6da"
            ],
            [
             0.4,
             "#fde0ef"
            ],
            [
             0.5,
             "#f7f7f7"
            ],
            [
             0.6,
             "#e6f5d0"
            ],
            [
             0.7,
             "#b8e186"
            ],
            [
             0.8,
             "#7fbc41"
            ],
            [
             0.9,
             "#4d9221"
            ],
            [
             1,
             "#276419"
            ]
           ],
           "sequential": [
            [
             0,
             "#0d0887"
            ],
            [
             0.1111111111111111,
             "#46039f"
            ],
            [
             0.2222222222222222,
             "#7201a8"
            ],
            [
             0.3333333333333333,
             "#9c179e"
            ],
            [
             0.4444444444444444,
             "#bd3786"
            ],
            [
             0.5555555555555556,
             "#d8576b"
            ],
            [
             0.6666666666666666,
             "#ed7953"
            ],
            [
             0.7777777777777778,
             "#fb9f3a"
            ],
            [
             0.8888888888888888,
             "#fdca26"
            ],
            [
             1,
             "#f0f921"
            ]
           ],
           "sequentialminus": [
            [
             0,
             "#0d0887"
            ],
            [
             0.1111111111111111,
             "#46039f"
            ],
            [
             0.2222222222222222,
             "#7201a8"
            ],
            [
             0.3333333333333333,
             "#9c179e"
            ],
            [
             0.4444444444444444,
             "#bd3786"
            ],
            [
             0.5555555555555556,
             "#d8576b"
            ],
            [
             0.6666666666666666,
             "#ed7953"
            ],
            [
             0.7777777777777778,
             "#fb9f3a"
            ],
            [
             0.8888888888888888,
             "#fdca26"
            ],
            [
             1,
             "#f0f921"
            ]
           ]
          },
          "colorway": [
           "#636efa",
           "#EF553B",
           "#00cc96",
           "#ab63fa",
           "#FFA15A",
           "#19d3f3",
           "#FF6692",
           "#B6E880",
           "#FF97FF",
           "#FECB52"
          ],
          "font": {
           "color": "#2a3f5f"
          },
          "geo": {
           "bgcolor": "white",
           "lakecolor": "white",
           "landcolor": "#E5ECF6",
           "showlakes": true,
           "showland": true,
           "subunitcolor": "white"
          },
          "hoverlabel": {
           "align": "left"
          },
          "hovermode": "closest",
          "mapbox": {
           "style": "light"
          },
          "paper_bgcolor": "white",
          "plot_bgcolor": "#E5ECF6",
          "polar": {
           "angularaxis": {
            "gridcolor": "white",
            "linecolor": "white",
            "ticks": ""
           },
           "bgcolor": "#E5ECF6",
           "radialaxis": {
            "gridcolor": "white",
            "linecolor": "white",
            "ticks": ""
           }
          },
          "scene": {
           "xaxis": {
            "backgroundcolor": "#E5ECF6",
            "gridcolor": "white",
            "gridwidth": 2,
            "linecolor": "white",
            "showbackground": true,
            "ticks": "",
            "zerolinecolor": "white"
           },
           "yaxis": {
            "backgroundcolor": "#E5ECF6",
            "gridcolor": "white",
            "gridwidth": 2,
            "linecolor": "white",
            "showbackground": true,
            "ticks": "",
            "zerolinecolor": "white"
           },
           "zaxis": {
            "backgroundcolor": "#E5ECF6",
            "gridcolor": "white",
            "gridwidth": 2,
            "linecolor": "white",
            "showbackground": true,
            "ticks": "",
            "zerolinecolor": "white"
           }
          },
          "shapedefaults": {
           "line": {
            "color": "#2a3f5f"
           }
          },
          "ternary": {
           "aaxis": {
            "gridcolor": "white",
            "linecolor": "white",
            "ticks": ""
           },
           "baxis": {
            "gridcolor": "white",
            "linecolor": "white",
            "ticks": ""
           },
           "bgcolor": "#E5ECF6",
           "caxis": {
            "gridcolor": "white",
            "linecolor": "white",
            "ticks": ""
           }
          },
          "title": {
           "x": 0.05
          },
          "xaxis": {
           "automargin": true,
           "gridcolor": "white",
           "linecolor": "white",
           "ticks": "",
           "title": {
            "standoff": 15
           },
           "zerolinecolor": "white",
           "zerolinewidth": 2
          },
          "yaxis": {
           "automargin": true,
           "gridcolor": "white",
           "linecolor": "white",
           "ticks": "",
           "title": {
            "standoff": 15
           },
           "zerolinecolor": "white",
           "zerolinewidth": 2
          }
         }
        },
        "width": 800
       }
      }
     },
     "metadata": {},
     "output_type": "display_data"
    }
   ],
   "source": [
    "# pairwise scatter plots\n",
    "df = px.data.iris()\n",
    "features = [\"sepal_width\", \"sepal_length\", \"petal_width\", \"petal_length\"]\n",
    "\n",
    "fig = px.scatter_matrix(\n",
    "    df,\n",
    "    dimensions=features,\n",
    "    color=\"species\",\n",
    "    width=800, height=700\n",
    ")\n",
    "\n",
    "fig.update_traces(diagonal_visible=False)\n",
    "fig.show()"
   ]
  },
  {
   "cell_type": "code",
   "execution_count": 25,
   "metadata": {},
   "outputs": [
    {
     "data": {
      "application/vnd.plotly.v1+json": {
       "config": {
        "plotlyServerURL": "https://plot.ly"
       },
       "data": [
        {
         "diagonal": {
          "visible": false
         },
         "dimensions": [
          {
           "axis": {
            "matches": true
           },
           "label": "PC 1 (92.5%)",
           "values": [
            -2.6842071251039483,
            -2.715390615634137,
            -2.889819539617918,
            -2.746437197308736,
            -2.7285929818313153,
            -2.279897361009598,
            -2.8208906821806314,
            -2.62648199332382,
            -2.887958565335636,
            -2.6738446867191215,
            -2.5065267893389036,
            -2.6131427182710567,
            -2.7874339759970983,
            -3.2252004462749824,
            -2.6435432169411466,
            -2.3838693237993756,
            -2.6225262031258088,
            -2.6483227324791274,
            -2.199077961430763,
            -2.5873461889177385,
            -2.310531701313134,
            -2.5432349073036957,
            -3.2158576949001065,
            -2.3031285376638837,
            -2.3561710866838985,
            -2.5079172268378813,
            -2.469055997545124,
            -2.5623909468367505,
            -2.6398212683765823,
            -2.6328479080307585,
            -2.5884620513033925,
            -2.410077337121596,
            -2.6476366733969003,
            -2.5971594770759183,
            -2.6738446867191215,
            -2.866999846932535,
            -2.625228464680421,
            -2.6738446867191215,
            -2.9818426648539096,
            -2.5903230255856746,
            -2.770138910746325,
            -2.8522110815663932,
            -2.998296442832353,
            -2.4055141012847012,
            -2.2088329541767058,
            -2.715665190747455,
            -2.537573371013507,
            -2.84032129682701,
            -2.542685757077049,
            -2.7039123148636515
           ]
          },
          {
           "axis": {
            "matches": true
           },
           "label": "PC 2 (5.3%)",
           "values": [
            0.3266073147643873,
            -0.16955684755602485,
            -0.1373456096050275,
            -0.3111243157519918,
            0.33392456356845496,
            0.7477827132251336,
            -0.08210451102468072,
            0.1704053489602899,
            -0.5707980263315916,
            -0.10669170375273855,
            0.6519350136725719,
            0.021520631960258146,
            -0.22774018887110634,
            -0.5032799094854259,
            1.1861948994134492,
            1.3447543445598626,
            0.8180896745965951,
            0.3191366677508846,
            0.8792440880917364,
            0.520473638805968,
            0.39786782158889195,
            0.4400317546598154,
            0.14161557162558375,
            0.10552267842998223,
            -0.031209589068338105,
            -0.1390563399131743,
            0.13788731459041775,
            0.3746845627501059,
            0.3192900659603218,
            -0.1900758306336239,
            -0.1973930794376908,
            0.4180800082476161,
            0.8199826325595073,
            1.1000219280072687,
            -0.10669170375273855,
            0.07719309572358718,
            0.6068000084215861,
            -0.10669170375273855,
            -0.48025004885607653,
            0.23605933728887282,
            0.2710594197651671,
            -0.9328653674695446,
            -0.33430757459077703,
            0.1959172576960608,
            0.44269603042100303,
            -0.24268148289811303,
            0.5103675454766059,
            -0.22057633827647657,
            0.5862810253439885,
            0.11501085217050559
           ]
          },
          {
           "axis": {
            "matches": true
           },
           "label": "PC 3 (1.7%)",
           "values": [
            -0.021511837001962734,
            -0.203521425005492,
            0.024709240998957206,
            0.03767197528530124,
            0.09622969977460923,
            0.17432561901640264,
            0.2642510851906962,
            -0.015801510264314967,
            0.027335406114507386,
            -0.19153329973564465,
            -0.0692749958139312,
            0.10765035324990471,
            -0.20032778809538923,
            0.06841362917233058,
            -0.14450570400963575,
            0.2837306639397768,
            0.14531598882161764,
            0.03339425407069798,
            -0.1145214647983531,
            0.2195720880008249,
            -0.23369560709796952,
            0.21483637027967536,
            0.2996189815108713,
            0.04568004127448714,
            0.12940757589599344,
            -0.2471163378908597,
            0.10126307942970231,
            -0.07235915743602833,
            -0.13925337377853475,
            0.04646646364504581,
            -0.07127507313152599,
            -0.13838824005004097,
            0.23058560425417257,
            0.16358191262366228,
            -0.19153329973564465,
            -0.15684235049802422,
            -0.2611631564817058,
            -0.19153329973564465,
            0.07972480735962142,
            -0.0739012382470765,
            0.08424157450476318,
            -0.34096149110715135,
            0.19900842494724202,
            0.2707170703688334,
            0.30348780926827035,
            -0.09051560595006826,
            0.1719184044768606,
            0.09006137653041528,
            -0.011175267831169195,
            -0.08269572660682159
           ]
          },
          {
           "axis": {
            "matches": true
           },
           "label": "PC 4 (0.5%)",
           "values": [
            0.001006157241540727,
            0.0996024240168193,
            0.019304542832510187,
            -0.0759552741085358,
            -0.06312873271710952,
            -0.027146803697900974,
            -0.05009962506284989,
            -0.04628176096650987,
            -0.026615414325656193,
            -0.05589096599605567,
            -0.016608247824484165,
            -0.15770456913321196,
            -0.007235086738119083,
            -0.02194666412340749,
            0.15698096151652358,
            0.0019261817096647626,
            0.1647407912340746,
            0.07611821327962341,
            0.02532693965637582,
            -0.06908199117876082,
            -0.015323739565081367,
            0.038439500101117914,
            0.0018570433474499632,
            0.14724549964039957,
            -0.3016202653321937,
            0.03538408126768305,
            0.05597045237666045,
            -0.015240286774598594,
            0.06514104720019225,
            -0.12461115336647242,
            -0.0604762634078218,
            0.2308441699770707,
            -0.28480895426346114,
            -0.09895807058362005,
            -0.05589096599605567,
            0.1624528057160655,
            0.17587987484195122,
            -0.05589096599605567,
            -0.011052950834459204,
            -0.014556306249655931,
            0.09236465729576326,
            0.3226506066130544,
            -0.0758718213180528,
            0.1737851292110279,
            -0.1858575300726545,
            0.1429890253380452,
            -0.19216594594983705,
            -0.06039281061733872,
            -0.048333702541338314,
            0.03409957300828093
           ]
          }
         ],
         "hovertemplate": "color=setosa<br>%{xaxis.title.text}=%{x}<br>%{yaxis.title.text}=%{y}<extra></extra>",
         "legendgroup": "setosa",
         "marker": {
          "color": "#636efa",
          "symbol": "circle"
         },
         "name": "setosa",
         "showlegend": true,
         "type": "splom"
        },
        {
         "diagonal": {
          "visible": false
         },
         "dimensions": [
          {
           "axis": {
            "matches": true
           },
           "label": "PC 1 (92.5%)",
           "values": [
            1.2847945878450728,
            0.932410752982918,
            1.4640613227790764,
            0.18096720634769842,
            1.0871344872070015,
            0.6404367495231458,
            1.0952237099384792,
            -0.7514671406482276,
            1.0432977807062818,
            -0.01019007072785384,
            -0.5110861958950912,
            0.5110980606834777,
            0.26233575615318006,
            0.9840445451694314,
            -0.17486400196569626,
            0.9275729420327,
            0.6595927890562006,
            0.23454058625983568,
            0.942361707398842,
            0.043246400328704256,
            1.1162407237538159,
            0.3567865678304612,
            1.2964688502855344,
            0.9205026489090097,
            0.7140082136428336,
            0.8996408632837773,
            1.3310414188547202,
            1.557396272070703,
            0.8124555489980023,
            -0.30733475566340457,
            -0.07034288894927213,
            -0.1918844921031462,
            0.13499495045137336,
            1.378736982775583,
            0.5872748535799109,
            0.8072054966767169,
            1.2204289662446801,
            0.8128677903690702,
            0.24519516169034583,
            0.1645134283692555,
            0.46303098887142413,
            0.8901604456511567,
            0.22887904996964772,
            -0.7070812839208611,
            0.35553303918706364,
            0.3311269473327229,
            0.37523822894676595,
            0.6416902781665436,
            -0.9084633331234959,
            0.2978079074069339
           ]
          },
          {
           "axis": {
            "matches": true
           },
           "label": "PC 2 (5.3%)",
           "values": [
            0.68543918613292,
            0.3191980898336488,
            0.504189832972453,
            -0.8256039435761131,
            0.07539038928876729,
            -0.4173234829700257,
            0.2838912109384804,
            -1.001107512974394,
            0.22895690877700664,
            -0.7205748667019016,
            -1.2624919538621409,
            -0.1022841050459702,
            -0.5478932980253368,
            -0.1243604202222779,
            -0.25181557108017055,
            0.468236205043117,
            -0.3519762910603163,
            -0.3319218293621204,
            -0.5418222581500143,
            -0.5814894466123587,
            -0.08421401387837321,
            -0.06682382794136629,
            -0.32756151979494436,
            -0.18239036332792097,
            0.1503791531484371,
            0.32961097958188385,
            0.24466952060228916,
            0.26739258481276473,
            -0.16233157487863326,
            -0.3650866127661605,
            -0.7025379317307261,
            -0.6774905443743574,
            -0.31170964270339624,
            -0.4212051382146283,
            -0.4832842677174821,
            0.19505396377111178,
            0.40803533700101746,
            -0.37067899831891,
            -0.26672803566184783,
            -0.6796614693108137,
            -0.6695265465361224,
            -0.03381244274676262,
            -0.4022576201789114,
            -1.008424761778461,
            -0.5032184874026623,
            -0.21118014066262653,
            -0.2916220248087797,
            0.019071176491270683,
            -0.7515687251694855,
            -0.3470165215985639
           ]
          },
          {
           "axis": {
            "matches": true
           },
           "label": "PC 3 (1.7%)",
           "values": [
            -0.4061295530769634,
            -0.017129909205125422,
            -0.33826072771795906,
            -0.1770828563933646,
            -0.30654446481443176,
            0.041188769353644454,
            0.17002253374149975,
            0.015672194238160363,
            -0.41481456614870393,
            0.28343724625412586,
            -0.2664899538224496,
            0.13232789047497376,
            -0.6919415783189645,
            -0.062157427613538804,
            0.09365863819195047,
            -0.31322940056857745,
            0.3283842970693479,
            -0.27028067083569357,
            -0.49734854117770433,
            -0.23296355648252265,
            0.45984422657275326,
            -0.22747218032088326,
            -0.34751321258425016,
            -0.23161141855267003,
            -0.32037233282926975,
            -0.31477148137962574,
            -0.5212449247379849,
            -0.16463849085222873,
            0.03634357634449071,
            -0.31533719693891993,
            -0.24175804484226776,
            -0.3039165434636245,
            -0.17497330378776513,
            0.015480495121708399,
            0.44458375303487097,
            0.3894587113862025,
            -0.23656608684982813,
            -0.612871050060673,
            0.189562484729242,
            -0.05779923880574395,
            -0.02405389088980919,
            -0.009768026368424802,
            -0.22736270503287917,
            -0.1020693425384113,
            0.017889465896507667,
            0.08380907322251574,
            0.07907335550136599,
            -0.20417287686374624,
            -0.007736584506980519,
            0.0121791391588594
           ]
          },
          {
           "axis": {
            "matches": true
           },
           "label": "PC 4 (0.5%)",
           "values": [
            0.01929011685534353,
            -0.000006757941710408049,
            -0.0008576440476193371,
            0.09578444837157978,
            0.11338453900933691,
            -0.24267131206866582,
            -0.08497338932826706,
            -0.016510592154629807,
            -0.03752355359177022,
            -0.0059457019750934524,
            0.04890880606342317,
            0.05010053515659477,
            0.061484989083400145,
            -0.16901066987095256,
            0.12494088656962876,
            0.10043888414556001,
            -0.18899152519294934,
            -0.21198499529228562,
            0.2606366850425493,
            -0.03956118073833019,
            -0.07721355961071595,
            0.12409000046371998,
            0.003246239102036918,
            -0.28682534670531995,
            0.042941233173503755,
            0.10112286467050258,
            0.03750504965582883,
            0.07035309510363975,
            -0.02968027108373625,
            0.07653037763062082,
            0.009094698519606705,
            -0.01804545878548172,
            0.03418291424986639,
            -0.1775807369600241,
            -0.2524424346266572,
            -0.1166153912546379,
            0.0316352439846605,
            0.1577004911744361,
            -0.14732804233713756,
            0.03096557788798618,
            -0.2684435083238687,
            -0.15344820637975512,
            0.018620450758669232,
            0.04762429780402084,
            -0.0980716353447415,
            -0.23868654239135975,
            -0.1311650511114808,
            -0.020509676260204394,
            0.23355863427434517,
            -0.05078371713668976
           ]
          }
         ],
         "hovertemplate": "color=versicolor<br>%{xaxis.title.text}=%{x}<br>%{yaxis.title.text}=%{y}<extra></extra>",
         "legendgroup": "versicolor",
         "marker": {
          "color": "#EF553B",
          "symbol": "circle"
         },
         "name": "versicolor",
         "showlegend": true,
         "type": "splom"
        },
        {
         "diagonal": {
          "visible": false
         },
         "dimensions": [
          {
           "axis": {
            "matches": true
           },
           "label": "PC 1 (92.5%)",
           "values": [
            2.5317269804395597,
            1.4140722251737576,
            2.6164846082840447,
            1.970814945906483,
            2.3497579839509433,
            3.3968799206781384,
            0.5193832450849359,
            2.9320050969913027,
            2.3196727938740542,
            2.9181342336442535,
            1.6619349470194877,
            1.8023404526607343,
            2.1653788629533985,
            1.3445942175098244,
            1.5852672993086436,
            1.9047435782139126,
            1.9492487818644986,
            3.488765379656388,
            3.794686861209972,
            1.298329824567816,
            2.4281672590208503,
            1.1980973722749628,
            3.4992654842989594,
            1.3876682501815565,
            2.2758536493056956,
            2.614193830698335,
            1.2576251829251368,
            1.2906696477376018,
            2.122853980508314,
            2.387564402369029,
            2.840960925285386,
            3.232342898295877,
            2.158738373133136,
            1.4431026043759752,
            1.7796401068985708,
            3.0765216210206634,
            2.1449868567093047,
            1.9048629251371327,
            1.1688534694704038,
            2.1076537311732695,
            2.314303394629549,
            1.922450884835754,
            1.4140722251737576,
            2.5633227123408107,
            2.4193912198049814,
            1.9440170488777384,
            1.525663631313873,
            1.7640459355269837,
            1.901629075288233,
            1.3896661333194171
           ]
          },
          {
           "axis": {
            "matches": true
           },
           "label": "PC 2 (5.3%)",
           "values": [
            -0.01184223664030021,
            -0.5749250559123047,
            0.34193528698729464,
            -0.18112569470491363,
            -0.041882549654841755,
            0.5471680462301525,
            -1.1913516890506528,
            0.3523770061808596,
            -0.24554817060691023,
            0.780380629372032,
            0.24203840103752247,
            -0.21615460662653638,
            0.2152802833730072,
            -0.7764154251768249,
            -0.539307053847172,
            0.11881899098269873,
            0.040730259427767875,
            1.1715445442635641,
            0.2532655709725344,
            -0.7610139365215078,
            0.37678197125415264,
            -0.6055789617645944,
            0.45677346696407445,
            -0.20403098657015492,
            0.3333865257566423,
            0.5583669502788224,
            -0.17913699742322284,
            -0.11642525182937238,
            -0.2108548845494899,
            0.46251925072626043,
            0.3727425910490212,
            1.3705240359763335,
            -0.21832553156299325,
            -0.14380128908272616,
            -0.5014647947060155,
            0.6857644422460564,
            0.1389066088773148,
            0.04804750823183475,
            -0.1645024998150898,
            0.37148224917710576,
            0.18260885079369857,
            0.40927117617869546,
            -0.5749250559123047,
            0.2759745022398382,
            0.3035039377026289,
            0.18741522204601382,
            -0.3750208481918231,
            0.07851918642935744,
            0.11587674824796598,
            -0.282886709172269
           ]
          },
          {
           "axis": {
            "matches": true
           },
           "label": "PC 3 (1.7%)",
           "values": [
            0.7584586515284955,
            0.2963982243052133,
            -0.11214137055436688,
            0.10653914864984597,
            0.2841106808661673,
            -0.35187315762730165,
            0.5466855311249491,
            -0.423691278336897,
            -0.3499221833590494,
            0.4217389336137672,
            0.242815263467593,
            -0.037695328493964696,
            0.03314818319913303,
            0.2828680182243185,
            0.6305704884623257,
            0.4801380797657283,
            0.04272909392943653,
            0.12932008336177506,
            -0.5169707159938951,
            -0.3448870474686996,
            0.21864907004670503,
            0.5126407650398149,
            -0.5769101867216485,
            -0.06351132177864807,
            0.2846781526607177,
            -0.20842334661879358,
            0.04697780744922714,
            0.23161356056830604,
            0.1535158850912552,
            -0.45202396144912754,
            -0.5010315391382015,
            -0.11844877739515836,
            0.2084219761639157,
            -0.1540829711054271,
            -0.1758111860567032,
            -0.336422741208224,
            0.7341847390548599,
            0.1604706307060083,
            0.28246088100237127,
            0.02743785646148509,
            0.3228604007423824,
            0.11549281596071716,
            0.2963982243052133,
            0.2912536131268595,
            0.5043025169513595,
            0.1793028706811266,
            -0.12063644074491203,
            0.13078405342866878,
            0.7228735608675684,
            0.3623178316312214
           ]
          },
          {
           "axis": {
            "matches": true
           },
           "label": "PC 4 (0.5%)",
           "values": [
            -0.03259956851444914,
            -0.015695478279485937,
            0.06595604952643849,
            -0.23685862488186102,
            -0.001312724003609049,
            -0.11121996802024856,
            -0.09879841992577909,
            -0.25540736884427856,
            -0.07626286251324566,
            0.1077293194788529,
            0.11944758456759065,
            0.07871345255565045,
            0.16266728030785255,
            0.14048189225832983,
            0.327455366669128,
            0.21711450049899497,
            -0.15784525195695595,
            -0.31162983793268056,
            0.056451643540974615,
            -0.042673718056128636,
            0.1838541791512892,
            0.05950003054907899,
            -0.1377595975908771,
            0.16376353673268973,
            -0.06223027760037961,
            -0.24044543308754096,
            0.14760054550703336,
            0.0030843215735913863,
            0.05261243319103638,
            -0.22990687721412367,
            -0.020216625381557395,
            -0.25448734437615494,
            0.12772448922911855,
            -0.1899258640893409,
            -0.5035294527425075,
            0.31058909243773936,
            0.051766535137647646,
            -0.2219801419156067,
            0.01933076558973161,
            0.20995519851590377,
            0.27589665973045435,
            0.50409500679105,
            -0.015695478279485937,
            0.05618492696844703,
            0.2382179465519487,
            0.4250816338661444,
            0.25572256452137165,
            0.13629455631819007,
            0.04087282184869933,
            -0.1563103853261041
           ]
          }
         ],
         "hovertemplate": "color=virginica<br>%{xaxis.title.text}=%{x}<br>%{yaxis.title.text}=%{y}<extra></extra>",
         "legendgroup": "virginica",
         "marker": {
          "color": "#00cc96",
          "symbol": "circle"
         },
         "name": "virginica",
         "showlegend": true,
         "type": "splom"
        }
       ],
       "layout": {
        "dragmode": "select",
        "height": 700,
        "legend": {
         "title": {
          "text": "color"
         },
         "tracegroupgap": 0
        },
        "margin": {
         "t": 60
        },
        "template": {
         "data": {
          "bar": [
           {
            "error_x": {
             "color": "#2a3f5f"
            },
            "error_y": {
             "color": "#2a3f5f"
            },
            "marker": {
             "line": {
              "color": "#E5ECF6",
              "width": 0.5
             },
             "pattern": {
              "fillmode": "overlay",
              "size": 10,
              "solidity": 0.2
             }
            },
            "type": "bar"
           }
          ],
          "barpolar": [
           {
            "marker": {
             "line": {
              "color": "#E5ECF6",
              "width": 0.5
             },
             "pattern": {
              "fillmode": "overlay",
              "size": 10,
              "solidity": 0.2
             }
            },
            "type": "barpolar"
           }
          ],
          "carpet": [
           {
            "aaxis": {
             "endlinecolor": "#2a3f5f",
             "gridcolor": "white",
             "linecolor": "white",
             "minorgridcolor": "white",
             "startlinecolor": "#2a3f5f"
            },
            "baxis": {
             "endlinecolor": "#2a3f5f",
             "gridcolor": "white",
             "linecolor": "white",
             "minorgridcolor": "white",
             "startlinecolor": "#2a3f5f"
            },
            "type": "carpet"
           }
          ],
          "choropleth": [
           {
            "colorbar": {
             "outlinewidth": 0,
             "ticks": ""
            },
            "type": "choropleth"
           }
          ],
          "contour": [
           {
            "colorbar": {
             "outlinewidth": 0,
             "ticks": ""
            },
            "colorscale": [
             [
              0,
              "#0d0887"
             ],
             [
              0.1111111111111111,
              "#46039f"
             ],
             [
              0.2222222222222222,
              "#7201a8"
             ],
             [
              0.3333333333333333,
              "#9c179e"
             ],
             [
              0.4444444444444444,
              "#bd3786"
             ],
             [
              0.5555555555555556,
              "#d8576b"
             ],
             [
              0.6666666666666666,
              "#ed7953"
             ],
             [
              0.7777777777777778,
              "#fb9f3a"
             ],
             [
              0.8888888888888888,
              "#fdca26"
             ],
             [
              1,
              "#f0f921"
             ]
            ],
            "type": "contour"
           }
          ],
          "contourcarpet": [
           {
            "colorbar": {
             "outlinewidth": 0,
             "ticks": ""
            },
            "type": "contourcarpet"
           }
          ],
          "heatmap": [
           {
            "colorbar": {
             "outlinewidth": 0,
             "ticks": ""
            },
            "colorscale": [
             [
              0,
              "#0d0887"
             ],
             [
              0.1111111111111111,
              "#46039f"
             ],
             [
              0.2222222222222222,
              "#7201a8"
             ],
             [
              0.3333333333333333,
              "#9c179e"
             ],
             [
              0.4444444444444444,
              "#bd3786"
             ],
             [
              0.5555555555555556,
              "#d8576b"
             ],
             [
              0.6666666666666666,
              "#ed7953"
             ],
             [
              0.7777777777777778,
              "#fb9f3a"
             ],
             [
              0.8888888888888888,
              "#fdca26"
             ],
             [
              1,
              "#f0f921"
             ]
            ],
            "type": "heatmap"
           }
          ],
          "heatmapgl": [
           {
            "colorbar": {
             "outlinewidth": 0,
             "ticks": ""
            },
            "colorscale": [
             [
              0,
              "#0d0887"
             ],
             [
              0.1111111111111111,
              "#46039f"
             ],
             [
              0.2222222222222222,
              "#7201a8"
             ],
             [
              0.3333333333333333,
              "#9c179e"
             ],
             [
              0.4444444444444444,
              "#bd3786"
             ],
             [
              0.5555555555555556,
              "#d8576b"
             ],
             [
              0.6666666666666666,
              "#ed7953"
             ],
             [
              0.7777777777777778,
              "#fb9f3a"
             ],
             [
              0.8888888888888888,
              "#fdca26"
             ],
             [
              1,
              "#f0f921"
             ]
            ],
            "type": "heatmapgl"
           }
          ],
          "histogram": [
           {
            "marker": {
             "pattern": {
              "fillmode": "overlay",
              "size": 10,
              "solidity": 0.2
             }
            },
            "type": "histogram"
           }
          ],
          "histogram2d": [
           {
            "colorbar": {
             "outlinewidth": 0,
             "ticks": ""
            },
            "colorscale": [
             [
              0,
              "#0d0887"
             ],
             [
              0.1111111111111111,
              "#46039f"
             ],
             [
              0.2222222222222222,
              "#7201a8"
             ],
             [
              0.3333333333333333,
              "#9c179e"
             ],
             [
              0.4444444444444444,
              "#bd3786"
             ],
             [
              0.5555555555555556,
              "#d8576b"
             ],
             [
              0.6666666666666666,
              "#ed7953"
             ],
             [
              0.7777777777777778,
              "#fb9f3a"
             ],
             [
              0.8888888888888888,
              "#fdca26"
             ],
             [
              1,
              "#f0f921"
             ]
            ],
            "type": "histogram2d"
           }
          ],
          "histogram2dcontour": [
           {
            "colorbar": {
             "outlinewidth": 0,
             "ticks": ""
            },
            "colorscale": [
             [
              0,
              "#0d0887"
             ],
             [
              0.1111111111111111,
              "#46039f"
             ],
             [
              0.2222222222222222,
              "#7201a8"
             ],
             [
              0.3333333333333333,
              "#9c179e"
             ],
             [
              0.4444444444444444,
              "#bd3786"
             ],
             [
              0.5555555555555556,
              "#d8576b"
             ],
             [
              0.6666666666666666,
              "#ed7953"
             ],
             [
              0.7777777777777778,
              "#fb9f3a"
             ],
             [
              0.8888888888888888,
              "#fdca26"
             ],
             [
              1,
              "#f0f921"
             ]
            ],
            "type": "histogram2dcontour"
           }
          ],
          "mesh3d": [
           {
            "colorbar": {
             "outlinewidth": 0,
             "ticks": ""
            },
            "type": "mesh3d"
           }
          ],
          "parcoords": [
           {
            "line": {
             "colorbar": {
              "outlinewidth": 0,
              "ticks": ""
             }
            },
            "type": "parcoords"
           }
          ],
          "pie": [
           {
            "automargin": true,
            "type": "pie"
           }
          ],
          "scatter": [
           {
            "fillpattern": {
             "fillmode": "overlay",
             "size": 10,
             "solidity": 0.2
            },
            "type": "scatter"
           }
          ],
          "scatter3d": [
           {
            "line": {
             "colorbar": {
              "outlinewidth": 0,
              "ticks": ""
             }
            },
            "marker": {
             "colorbar": {
              "outlinewidth": 0,
              "ticks": ""
             }
            },
            "type": "scatter3d"
           }
          ],
          "scattercarpet": [
           {
            "marker": {
             "colorbar": {
              "outlinewidth": 0,
              "ticks": ""
             }
            },
            "type": "scattercarpet"
           }
          ],
          "scattergeo": [
           {
            "marker": {
             "colorbar": {
              "outlinewidth": 0,
              "ticks": ""
             }
            },
            "type": "scattergeo"
           }
          ],
          "scattergl": [
           {
            "marker": {
             "colorbar": {
              "outlinewidth": 0,
              "ticks": ""
             }
            },
            "type": "scattergl"
           }
          ],
          "scattermapbox": [
           {
            "marker": {
             "colorbar": {
              "outlinewidth": 0,
              "ticks": ""
             }
            },
            "type": "scattermapbox"
           }
          ],
          "scatterpolar": [
           {
            "marker": {
             "colorbar": {
              "outlinewidth": 0,
              "ticks": ""
             }
            },
            "type": "scatterpolar"
           }
          ],
          "scatterpolargl": [
           {
            "marker": {
             "colorbar": {
              "outlinewidth": 0,
              "ticks": ""
             }
            },
            "type": "scatterpolargl"
           }
          ],
          "scatterternary": [
           {
            "marker": {
             "colorbar": {
              "outlinewidth": 0,
              "ticks": ""
             }
            },
            "type": "scatterternary"
           }
          ],
          "surface": [
           {
            "colorbar": {
             "outlinewidth": 0,
             "ticks": ""
            },
            "colorscale": [
             [
              0,
              "#0d0887"
             ],
             [
              0.1111111111111111,
              "#46039f"
             ],
             [
              0.2222222222222222,
              "#7201a8"
             ],
             [
              0.3333333333333333,
              "#9c179e"
             ],
             [
              0.4444444444444444,
              "#bd3786"
             ],
             [
              0.5555555555555556,
              "#d8576b"
             ],
             [
              0.6666666666666666,
              "#ed7953"
             ],
             [
              0.7777777777777778,
              "#fb9f3a"
             ],
             [
              0.8888888888888888,
              "#fdca26"
             ],
             [
              1,
              "#f0f921"
             ]
            ],
            "type": "surface"
           }
          ],
          "table": [
           {
            "cells": {
             "fill": {
              "color": "#EBF0F8"
             },
             "line": {
              "color": "white"
             }
            },
            "header": {
             "fill": {
              "color": "#C8D4E3"
             },
             "line": {
              "color": "white"
             }
            },
            "type": "table"
           }
          ]
         },
         "layout": {
          "annotationdefaults": {
           "arrowcolor": "#2a3f5f",
           "arrowhead": 0,
           "arrowwidth": 1
          },
          "autotypenumbers": "strict",
          "coloraxis": {
           "colorbar": {
            "outlinewidth": 0,
            "ticks": ""
           }
          },
          "colorscale": {
           "diverging": [
            [
             0,
             "#8e0152"
            ],
            [
             0.1,
             "#c51b7d"
            ],
            [
             0.2,
             "#de77ae"
            ],
            [
             0.3,
             "#f1b6da"
            ],
            [
             0.4,
             "#fde0ef"
            ],
            [
             0.5,
             "#f7f7f7"
            ],
            [
             0.6,
             "#e6f5d0"
            ],
            [
             0.7,
             "#b8e186"
            ],
            [
             0.8,
             "#7fbc41"
            ],
            [
             0.9,
             "#4d9221"
            ],
            [
             1,
             "#276419"
            ]
           ],
           "sequential": [
            [
             0,
             "#0d0887"
            ],
            [
             0.1111111111111111,
             "#46039f"
            ],
            [
             0.2222222222222222,
             "#7201a8"
            ],
            [
             0.3333333333333333,
             "#9c179e"
            ],
            [
             0.4444444444444444,
             "#bd3786"
            ],
            [
             0.5555555555555556,
             "#d8576b"
            ],
            [
             0.6666666666666666,
             "#ed7953"
            ],
            [
             0.7777777777777778,
             "#fb9f3a"
            ],
            [
             0.8888888888888888,
             "#fdca26"
            ],
            [
             1,
             "#f0f921"
            ]
           ],
           "sequentialminus": [
            [
             0,
             "#0d0887"
            ],
            [
             0.1111111111111111,
             "#46039f"
            ],
            [
             0.2222222222222222,
             "#7201a8"
            ],
            [
             0.3333333333333333,
             "#9c179e"
            ],
            [
             0.4444444444444444,
             "#bd3786"
            ],
            [
             0.5555555555555556,
             "#d8576b"
            ],
            [
             0.6666666666666666,
             "#ed7953"
            ],
            [
             0.7777777777777778,
             "#fb9f3a"
            ],
            [
             0.8888888888888888,
             "#fdca26"
            ],
            [
             1,
             "#f0f921"
            ]
           ]
          },
          "colorway": [
           "#636efa",
           "#EF553B",
           "#00cc96",
           "#ab63fa",
           "#FFA15A",
           "#19d3f3",
           "#FF6692",
           "#B6E880",
           "#FF97FF",
           "#FECB52"
          ],
          "font": {
           "color": "#2a3f5f"
          },
          "geo": {
           "bgcolor": "white",
           "lakecolor": "white",
           "landcolor": "#E5ECF6",
           "showlakes": true,
           "showland": true,
           "subunitcolor": "white"
          },
          "hoverlabel": {
           "align": "left"
          },
          "hovermode": "closest",
          "mapbox": {
           "style": "light"
          },
          "paper_bgcolor": "white",
          "plot_bgcolor": "#E5ECF6",
          "polar": {
           "angularaxis": {
            "gridcolor": "white",
            "linecolor": "white",
            "ticks": ""
           },
           "bgcolor": "#E5ECF6",
           "radialaxis": {
            "gridcolor": "white",
            "linecolor": "white",
            "ticks": ""
           }
          },
          "scene": {
           "xaxis": {
            "backgroundcolor": "#E5ECF6",
            "gridcolor": "white",
            "gridwidth": 2,
            "linecolor": "white",
            "showbackground": true,
            "ticks": "",
            "zerolinecolor": "white"
           },
           "yaxis": {
            "backgroundcolor": "#E5ECF6",
            "gridcolor": "white",
            "gridwidth": 2,
            "linecolor": "white",
            "showbackground": true,
            "ticks": "",
            "zerolinecolor": "white"
           },
           "zaxis": {
            "backgroundcolor": "#E5ECF6",
            "gridcolor": "white",
            "gridwidth": 2,
            "linecolor": "white",
            "showbackground": true,
            "ticks": "",
            "zerolinecolor": "white"
           }
          },
          "shapedefaults": {
           "line": {
            "color": "#2a3f5f"
           }
          },
          "ternary": {
           "aaxis": {
            "gridcolor": "white",
            "linecolor": "white",
            "ticks": ""
           },
           "baxis": {
            "gridcolor": "white",
            "linecolor": "white",
            "ticks": ""
           },
           "bgcolor": "#E5ECF6",
           "caxis": {
            "gridcolor": "white",
            "linecolor": "white",
            "ticks": ""
           }
          },
          "title": {
           "x": 0.05
          },
          "xaxis": {
           "automargin": true,
           "gridcolor": "white",
           "linecolor": "white",
           "ticks": "",
           "title": {
            "standoff": 15
           },
           "zerolinecolor": "white",
           "zerolinewidth": 2
          },
          "yaxis": {
           "automargin": true,
           "gridcolor": "white",
           "linecolor": "white",
           "ticks": "",
           "title": {
            "standoff": 15
           },
           "zerolinecolor": "white",
           "zerolinewidth": 2
          }
         }
        },
        "width": 800
       }
      }
     },
     "metadata": {},
     "output_type": "display_data"
    }
   ],
   "source": [
    "# PCA plots\n",
    "pca = PCA()\n",
    "components = pca.fit_transform(df[features])\n",
    "labels = {\n",
    "    str(i): f\"PC {i+1} ({var:.1f}%)\"\n",
    "    for i, var in enumerate(pca.explained_variance_ratio_ * 100)\n",
    "}\n",
    "\n",
    "fig = px.scatter_matrix(\n",
    "    components,\n",
    "    labels=labels,\n",
    "    dimensions=range(4),\n",
    "    color=df[\"species\"],\n",
    "    width=800, height=700\n",
    ")\n",
    "fig.update_traces(diagonal_visible=False)\n",
    "\n",
    "fig.show()"
   ]
  },
  {
   "attachments": {},
   "cell_type": "markdown",
   "metadata": {},
   "source": [
    "##### Example using the `winequality` dataset"
   ]
  },
  {
   "cell_type": "code",
   "execution_count": null,
   "metadata": {},
   "outputs": [],
   "source": [
    "from sklearn.preprocessing import StandardScaler\n",
    "\n",
    "df_wine = pd.read_csv('winequality_red.csv')\n",
    "df_wine2 = df_wine.iloc[:, 0:11]\n",
    "wine_scaled = StandardScaler().fit_transform(df_wine2)\n",
    "df_scaled = pd.DataFrame(data=wine_scaled, columns=df_wine2.columns)\n",
    "\n",
    "\n",
    "pca = PCA()\n",
    "components = pca.fit_transform(df_scaled)\n",
    "labels = {\n",
    "    str(i): f\"PC {i+1} ({var:.1f}%)\"\n",
    "    for i, var in enumerate(pca.explained_variance_ratio_ * 100)\n",
    "}\n",
    "\n",
    "fig = px.scatter_matrix(\n",
    "    components,\n",
    "    labels=labels,\n",
    "    dimensions=range(5), # Try to change the number of PC's (from 2 to 11, in this case)\n",
    "    color=df_wine[\"quality\"],\n",
    "    width=1000, height=900\n",
    ")\n",
    "fig.update_traces(diagonal_visible=False)\n",
    "\n",
    "fig.show()"
   ]
  },
  {
   "attachments": {},
   "cell_type": "markdown",
   "metadata": {},
   "source": [
    "### 3. Dash\n",
    "\n",
    "Python's `dash` module offers a framework for building interactive data visualization interfaces. `dash` helps to build interactive web applications and dashboards to visualize data without requiring advanced web development knowledge.\n",
    "\n",
    "Bellow you can find a example of a `dash` interactive plot to visualize PCA plots with a user defined number of components. To run the app, copy the code into a new file named pca-visualization.py and type into your terminal the following code:\n",
    "\n",
    "> python pca-visualization.py\n",
    "\n",
    "Then, go to the http link by using 'ctr... + mouse click'.\n",
    "\n",
    "To exit: 'ctr + c'\n",
    "\n",
    "#### PCA with `Iris` Dataset"
   ]
  },
  {
   "cell_type": "code",
   "execution_count": null,
   "metadata": {},
   "outputs": [],
   "source": [
    "# Import modules\n",
    "# import Dash, dcc (stands for Dash Core Components - this module includes a Graph component called dcc.Graph, \n",
    "# which is used to render interactive graphs amd dcc.slider to render an interactive slider).\n",
    "# We also import sklearn.decomposition.PCA to run a PCA, the plotly.express library to build the interactive graphs, \n",
    "# and pandas to work with DataFrames.\n",
    "\n",
    "from dash import Dash, dcc, html, Input, Output\n",
    "from sklearn.decomposition import PCA\n",
    "import plotly.express as px\n",
    "import pandas as pd\n",
    "\n",
    "# Initialize the app\n",
    "# This line is known as the Dash constructor and is responsible for initializing your app. \n",
    "# It is almost always the same for any Dash app you create.\n",
    "app = Dash(__name__)\n",
    "\n",
    "# App layout\n",
    "# The app layout represents the app components that will be displayed in the web browser, \n",
    "# normally contained within a html.Div.\n",
    "app.layout = html.Div([\n",
    "    html.H4(\"Visualization of PCA's explained variance\", style={'textAlign':'center'}),\n",
    "    dcc.Graph(id=\"pca-visualization-x-graph\"),\n",
    "    html.P(\"Number of components:\"),\n",
    "    dcc.Slider(\n",
    "        id='pca-visualization-x-slider',\n",
    "        min=2, max=4, value=2, step=1)\n",
    "])\n",
    "\n",
    "# Add controls to build the interaction\n",
    "# The inputs and outputs of our app are the properties of a particular component. \n",
    "# The output is the figure property of the component with the ID \"pca-visualization-x-graph\"\n",
    "# THe input is the value property of the component that has the ID \"pca-visualization-x-slider\".\n",
    "# The callback function's argument 'n_components' refers to the component property of the input. \n",
    "# We build PCA plots inside the callback function, assigning the chosen value in the slider. \n",
    "# This means that every time the user selects the number of components with the slider, the figure is rebuilt\n",
    "# to add more or less components\n",
    "# Finally, we return the scatter plots at the end of the function. \n",
    "# This assigns the plots to the figure property of the dcc.Graph, thus displaying the figure in the app.\n",
    "@app.callback(\n",
    "    Output(component_id=\"pca-visualization-x-graph\", component_property=\"figure\"), \n",
    "    Input(component_id=\"pca-visualization-x-slider\", component_property=\"value\"))\n",
    "\n",
    "def run_and_plot(n_components):\n",
    "    df = px.data.iris().iloc[:,0:4]\n",
    "    pca = PCA(n_components=n_components) # defines the number of components in the PCA\n",
    "    components = pca.fit_transform(df) # fits a PCA\n",
    "    var = pca.explained_variance_ratio_.sum() * 100 # % of explained variance by each PC\n",
    "    labels = {str(i): f\"PC {i+1}\" for i in range(n_components)} # PC labels\n",
    "    labels['color'] = 'species'\n",
    "    fig = px.scatter_matrix(\n",
    "        components,\n",
    "        color=px.data.iris()[\"species\"],\n",
    "        dimensions=range(n_components),\n",
    "        labels=labels,\n",
    "        title=f'Total Explained Variance: {var:.2f}%')\n",
    "    fig.update_traces(diagonal_visible=False)\n",
    "    return fig\n",
    "\n",
    "# Run the app - These lines are for running your app, and they are almost always the same for any Dash app you create.\n",
    "if __name__ == \"__main__\":\n",
    "    app.run_server(debug=True)"
   ]
  },
  {
   "attachments": {},
   "cell_type": "markdown",
   "metadata": {},
   "source": [
    "#### PCA with `Wine` Dataset"
   ]
  },
  {
   "cell_type": "code",
   "execution_count": null,
   "metadata": {},
   "outputs": [],
   "source": [
    "# ATENTION: THIS CODE DOES NOT WORK IN JUPYTER NOTEBOOK! \n",
    "# Need to copy-paste to a *.py file and run in command line (see above).\n",
    "\n",
    "# Import modules\n",
    "# import Dash, dcc (stands for Dash Core Components - this module includes a Graph component called dcc.Graph, \n",
    "# which is used to render interactive graphs amd dcc.slider to render an interactive slider).\n",
    "# We also import sklearn.decomposition.PCA to run a PCA, the plotly.express library to build the interactive graphs, \n",
    "# and pandas to work with DataFrames.\n",
    "\n",
    "from dash import Dash, dcc, html, Input, Output\n",
    "from sklearn.decomposition import PCA\n",
    "import plotly.express as px\n",
    "import pandas as pd\n",
    "from sklearn.preprocessing import StandardScaler\n",
    "\n",
    "df_wine = pd.read_csv('winequality_red.csv')\n",
    "\n",
    "# Initialize the app\n",
    "# This line is known as the Dash constructor and is responsible for initializing your app. \n",
    "# It is almost always the same for any Dash app you create.\n",
    "app = Dash(__name__)\n",
    "\n",
    "# App layout\n",
    "# The app layout represents the app components that will be displayed in the web browser, \n",
    "# normally contained within a html.Div.\n",
    "app.layout = html.Div([\n",
    "    html.H1(\"Visualization of PCA's explained variance\", style={'textAlign':'center'}),\n",
    "    dcc.Graph(id=\"pca-visualization-x-graph\"),\n",
    "    html.P(\"Number of components:\"),\n",
    "    dcc.Slider(\n",
    "        id='pca-visualization-x-slider',\n",
    "        min=2, max=11, value=2, step=1)\n",
    "])\n",
    "\n",
    "# Add controls to build the interaction\n",
    "# The inputs and outputs of our app are the properties of a particular component. \n",
    "# The output is the figure property of the component with the ID \"pca-visualization-x-graph\"\n",
    "# THe input is the value property of the component that has the ID \"pca-visualization-x-slider\".\n",
    "# The callback function's argument 'n_components' refers to the component property of the input. \n",
    "# We build PCA plots inside the callback function, assigning the chosen value in the slider. \n",
    "# This means that every time the user selects the number of components with the slider, the figure is rebuilt\n",
    "# to add more or less components\n",
    "# Finally, we return the scatter plots at the end of the function. \n",
    "# This assigns the plots to the figure property of the dcc.Graph, thus displaying the figure in the app.\n",
    "@app.callback(\n",
    "    Output(component_id=\"pca-visualization-x-graph\", component_property=\"figure\"), \n",
    "    Input(component_id=\"pca-visualization-x-slider\", component_property=\"value\"))\n",
    "\n",
    "def run_and_plot(n_components):\n",
    "    df_wine = pd.read_csv('winequality_red.csv')\n",
    "    df_wine2 = df_wine.iloc[:, 0:11]\n",
    "    wine_scaled = StandardScaler().fit_transform(df_wine2)\n",
    "    df = pd.DataFrame(data=wine_scaled, columns=df_wine2.columns)\n",
    "    pca = PCA(n_components=n_components) # defines the number of components in the PCA\n",
    "    components = pca.fit_transform(df) # fits a PCA\n",
    "    var = pca.explained_variance_ratio_.sum() * 100 # % of explained variance by each PC\n",
    "    labels = {str(i): f\"PC {i+1}\" for i in range(n_components)} # PC labels\n",
    "    labels['color'] = 'quality'\n",
    "    fig = px.scatter_matrix(\n",
    "        components,\n",
    "        color=df_wine['quality'],\n",
    "        dimensions=range(n_components),\n",
    "        labels=labels,\n",
    "        title=f'Total Explained Variance: {var:.2f}%',\n",
    "        width=1400, height=1300\n",
    "        )\n",
    "    fig.update_traces(diagonal_visible=False)\n",
    "    return fig\n",
    "\n",
    "# Run the app - These lines are for running your app, and they are almost always the same for any Dash app you create.\n",
    "if __name__ == \"__main__\":\n",
    "    app.run_server(debug=True)\n",
    "\n"
   ]
  },
  {
   "attachments": {},
   "cell_type": "markdown",
   "metadata": {},
   "source": [
    "#### Variation of human population per country 1959-2007"
   ]
  },
  {
   "cell_type": "code",
   "execution_count": null,
   "metadata": {},
   "outputs": [],
   "source": [
    "from dash import Dash, html, dcc, callback, Output, Input\n",
    "import plotly.express as px\n",
    "import pandas as pd\n",
    "\n",
    "df = pd.read_csv('https://raw.githubusercontent.com/plotly/datasets/master/gapminder_unfiltered.csv')\n",
    "\n",
    "app = Dash(__name__)\n",
    "\n",
    "app.layout = html.Div([\n",
    "    html.H1(children='Human Population Size', style={'textAlign':'center'}),\n",
    "    dcc.Dropdown(df.country.unique(), 'Canada', id='dropdown-selection'), # dropdown menu\n",
    "    dcc.Graph(id='graph-content') \n",
    "])\n",
    "\n",
    "@callback(\n",
    "    Output('graph-content', 'figure'),\n",
    "    Input('dropdown-selection', 'value')\n",
    ")\n",
    "def update_graph(value):\n",
    "    dff = df[df.country==value]\n",
    "    return px.line(dff, x='year', y='pop') # Line graph\n",
    "\n",
    "if __name__ == '__main__':\n",
    "    app.run_server(debug=True)"
   ]
  },
  {
   "attachments": {},
   "cell_type": "markdown",
   "metadata": {},
   "source": [
    "## References\n",
    "\n",
    "Dash Python User Guide. https://dash.plotly.com/\n",
    "\n",
    "Dash in 20 Minutes. https://dash.plotly.com/tutorial\n",
    "\n",
    "Interactive Data Visualization with Python. https://github.com/TrainingByPackt/Interactive-Data-Visualization-with-Python \n",
    "\n",
    "PCA Visualization in Python. https://plotly.com/python/pca-visualization/\n",
    "\n",
    "Plotly Express in Python. https://plotly.com/python/plotly-express/\n",
    "\n",
    "Plotly Open Source Graphing Library for Python. https://plotly.com/python/\n",
    "\n",
    "3 Cool Features of Python Altair. https://towardsdatascience.com/3-cool-features-of-python-altair-deb3f432cc11"
   ]
  }
 ],
 "metadata": {
  "kernelspec": {
   "display_name": "Python 3",
   "language": "python",
   "name": "python3"
  },
  "language_info": {
   "codemirror_mode": {
    "name": "ipython",
    "version": 3
   },
   "file_extension": ".py",
   "mimetype": "text/x-python",
   "name": "python",
   "nbconvert_exporter": "python",
   "pygments_lexer": "ipython3",
   "version": "3.11.2"
  },
  "orig_nbformat": 4
 },
 "nbformat": 4,
 "nbformat_minor": 2
}
