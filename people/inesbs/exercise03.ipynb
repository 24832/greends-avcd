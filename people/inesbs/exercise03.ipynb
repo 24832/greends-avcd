{
 "cells": [
  {
   "cell_type": "code",
   "execution_count": 1,
   "metadata": {},
   "outputs": [],
   "source": [
    "import pandas as pd\n",
    "import zipfile\n",
    "import seaborn as sns # For plotting\n",
    "import matplotlib.pyplot as plt # For showing plots"
   ]
  },
  {
   "cell_type": "code",
   "execution_count": 2,
   "metadata": {},
   "outputs": [],
   "source": [
    "df = pd.read_csv('EFIplus_medit.zip',compression='zip', sep=\";\")"
   ]
  },
  {
   "cell_type": "code",
   "execution_count": 4,
   "metadata": {},
   "outputs": [
    {
     "name": "stdout",
     "output_type": "stream",
     "text": [
      "col_0                  count\n",
      "Catchment_name              \n",
      "Algarve-Sotavento          6\n",
      "Algarve-barlavento        10\n",
      "Arno-Ombrone               2\n",
      "Campania-South            19\n",
      "Cantabrica               502\n",
      "Catala                   242\n",
      "Corse                      5\n",
      "Douro                    401\n",
      "Ebro                     736\n",
      "EntreDouroeVouga           2\n",
      "Galiza-Norte             709\n",
      "Galiza-Sul                95\n",
      "Garonne                    3\n",
      "Guadalquivir              63\n",
      "Guadia                   313\n",
      "Italia-Veneto              1\n",
      "Jucar                    103\n",
      "Jucar-Ebro                52\n",
      "Minho                    707\n",
      "Mira                       5\n",
      "Mondego                   86\n",
      "Odelouca                  40\n",
      "Oeste                     33\n",
      "Ombrone                    5\n",
      "Ombrone-Tevere             6\n",
      "Rhone                     16\n",
      "Sado                       9\n",
      "Saline-Pescara-Sangro     29\n",
      "Sardinia                  17\n",
      "Segura                    42\n",
      "Segura-Jucar               7\n",
      "South_France_E            23\n",
      "South_France_W            25\n",
      "Sur                       24\n",
      "Tejo                     509\n",
      "Tejo-Sado                  1\n",
      "Tevere                   106\n",
      "Vouga                     56\n",
      "Vouga-Mondego              1\n"
     ]
    }
   ],
   "source": [
    "# to check what catchment have the highest count\n",
    "catchment_count = pd.crosstab(index = df['Catchment_name'], columns='count')\n",
    "print(catchment_count)\n",
    "\n",
    "#answer: Ebro, Galiza-Norte, Minho and Tejo"
   ]
  },
  {
   "cell_type": "code",
   "execution_count": 5,
   "metadata": {},
   "outputs": [],
   "source": [
    "#set those four as variables\n",
    "ebro = df[df['Catchment_name']=='Ebro']\n",
    "galiza_norte = df[df['Catchment_name']=='Galiza-Norte']\n",
    "minho = df[df['Catchment_name']=='Minho']\n",
    "tejo = df[df['Catchment_name']=='Tejo']"
   ]
  },
  {
   "attachments": {},
   "cell_type": "markdown",
   "metadata": {},
   "source": [
    "### Stripplot"
   ]
  },
  {
   "cell_type": "code",
   "execution_count": null,
   "metadata": {},
   "outputs": [],
   "source": [
    "plt.subplot(2,2,1)\n",
    "sns.stripplot(data=ebro, y='temp_ann').set_title(\"Ebro\")\n",
    "plt.subplot(2,2,2)\n",
    "sns.stripplot(data=galiza_norte, y='temp_ann').set_title(\"Galiza-Norte\")\n",
    "plt.subplot(2,2,3)\n",
    "sns.stripplot(data=minho, y='temp_ann').set_title(\"Minho\")\n",
    "plt.subplot(2,2,4)\n",
    "sns.stripplot(data=tejo, y='temp_ann').set_title(\"Tejo\")\n",
    "\n",
    "plt.show()"
   ]
  },
  {
   "attachments": {},
   "cell_type": "markdown",
   "metadata": {},
   "source": [
    "### Histogram"
   ]
  },
  {
   "cell_type": "code",
   "execution_count": null,
   "metadata": {},
   "outputs": [],
   "source": [
    "plt.subplot(2,2,1)\n",
    "sns.histplot(\n",
    "    ebro[\"temp_ann\"], \n",
    "    kde=True,\n",
    "    stat=\"density\",\n",
    "    kde_kws=dict(cut=3),\n",
    "    alpha=.4,\n",
    "    edgecolor=(1, 1, 1, 0.4),\n",
    ").set_title(\"Ebro\")\n",
    "\n",
    "plt.subplot(2,2,2)\n",
    "sns.histplot(\n",
    "    galiza_norte[\"temp_ann\"], \n",
    "    kde=True,\n",
    "    stat=\"density\",\n",
    "    kde_kws=dict(cut=3),\n",
    "    alpha=.4,\n",
    "    edgecolor=(1, 1, 1, 0.4),\n",
    ").set_title(\"Galiza-Norte\")\n",
    "\n",
    "plt.subplot(2,2,3)\n",
    "sns.histplot(\n",
    "    minho[\"temp_ann\"], \n",
    "    kde=True,\n",
    "    stat=\"density\",\n",
    "    kde_kws=dict(cut=3),\n",
    "    alpha=.4,\n",
    "    edgecolor=(1, 1, 1, 0.4),\n",
    ").set_title(\"Minho\")\n",
    "\n",
    "plt.subplot(2,2,4)\n",
    "sns.histplot(\n",
    "    tejo[\"temp_ann\"], \n",
    "    kde=True,\n",
    "    stat=\"density\",\n",
    "    kde_kws=dict(cut=3),\n",
    "    alpha=.4,\n",
    "    edgecolor=(1, 1, 1, 0.4),\n",
    ").set_title(\"Tejo\")\n",
    "\n",
    "plt.show()"
   ]
  },
  {
   "attachments": {},
   "cell_type": "markdown",
   "metadata": {},
   "source": [
    "### Boxplot"
   ]
  },
  {
   "cell_type": "code",
   "execution_count": 19,
   "metadata": {},
   "outputs": [
    {
     "data": {
      "image/png": "[encoded data removed]",
      "text/plain": [
       "<Figure size 640x480 with 4 Axes>"
      ]
     },
     "metadata": {},
     "output_type": "display_data"
    }
   ],
   "source": [
    "plt.subplot(2,2,1)\n",
    "sns.boxplot(y=\"temp_ann\", data=ebro).set_title(\"Ebro\")\n",
    "\n",
    "plt.subplot(2,2,2)\n",
    "sns.boxplot(y=\"temp_ann\", data=galiza_norte).set_title(\"Galiza-Norte\")\n",
    "\n",
    "plt.subplot(2,2,3)\n",
    "sns.boxplot(y=\"temp_ann\", data=minho).set_title(\"Minho\")\n",
    "\n",
    "plt.subplot(2,2,4)\n",
    "sns.boxplot(y=\"temp_ann\", data=tejo).set_title(\"Tejo\")\n",
    "\n",
    "plt.show()"
   ]
  }
 ],
 "metadata": {
  "kernelspec": {
   "display_name": "Python 3",
   "language": "python",
   "name": "python3"
  },
  "language_info": {
   "codemirror_mode": {
    "name": "ipython",
    "version": 3
   },
   "file_extension": ".py",
   "mimetype": "text/x-python",
   "name": "python",
   "nbconvert_exporter": "python",
   "pygments_lexer": "ipython3",
   "version": "3.11.2"
  },
  "orig_nbformat": 4
 },
 "nbformat": 4,
 "nbformat_minor": 2
}
