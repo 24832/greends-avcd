{
 "cells": [
  {
   "cell_type": "code",
   "execution_count": 1,
   "metadata": {},
   "outputs": [],
   "source": [
    "import pandas as pd\n",
    "import numpy as np\n",
    "import random"
   ]
  },
  {
   "cell_type": "code",
   "execution_count": 9,
   "metadata": {},
   "outputs": [
    {
     "name": "stdout",
     "output_type": "stream",
     "text": [
      "['Pasture', 'Managed Forest', 'Natural Forest', 'Managed Forest', 'Natural Forest', 'Managed Forest', 'Irrigated crops', 'Managed Forest', 'Agro-Forestry system', 'Permanent crops', 'Shrubland', 'Shrubland', 'Irrigated crops', 'Permanent crops', 'Managed Forest', 'Shrubland', 'Shrubland', 'Agro-Forestry system', 'Shrubland', 'Irrigated crops', 'Agro-Forestry system', 'Managed Forest', 'Urban', 'Agro-Forestry system', 'Irrigated crops', 'Urban', 'Permanent crops', 'Natural Forest', 'Urban', 'Urban', 'Irrigated crops', 'Agro-Forestry system', 'Irrigated crops', 'Natural Forest', 'Managed Forest', 'Shrubland', 'Agro-Forestry system', 'Agro-Forestry system', 'Agro-Forestry system', 'Natural Forest', 'Irrigated crops', 'Shrubland', 'Managed Forest', 'Managed Forest', 'Urban', 'Shrubland', 'Natural Forest', 'Managed Forest', 'Shrubland', 'Agro-Forestry system', 'Natural Forest', 'Natural Forest', 'Irrigated crops', 'Managed Forest', 'Agro-Forestry system', 'Urban', 'Natural Forest', 'Pasture', 'Natural Forest', 'Agro-Forestry system', 'Pasture', 'Irrigated crops', 'Shrubland', 'Urban', 'Urban', 'Agro-Forestry system', 'Managed Forest', 'Pasture', 'Urban', 'Natural Forest', 'Urban', 'Permanent crops', 'Permanent crops', 'Shrubland', 'Urban', 'Shrubland', 'Shrubland', 'Irrigated crops', 'Permanent crops', 'Irrigated crops', 'Urban', 'Pasture', 'Pasture', 'Shrubland', 'Pasture', 'Pasture', 'Natural Forest', 'Agro-Forestry system', 'Agro-Forestry system', 'Urban', 'Agro-Forestry system', 'Managed Forest', 'Urban', 'Irrigated crops', 'Permanent crops', 'Agro-Forestry system', 'Permanent crops', 'Pasture', 'Pasture', 'Pasture']\n"
     ]
    }
   ],
   "source": [
    "# Simulate var1\n",
    "var1 = []\n",
    "random.seed(24) # optional: used to fix the seed of the pseudo-random number generator (use any number of your choice)\n",
    "levels = [\"Permanent crops\", \"Irrigated crops\", \"Managed Forest\", \"Natural Forest\", \"Agro-Forestry system\", \"Urban\", \"Pasture\", \"Shrubland\" ]\n",
    "for _ in range(100): # why is a loop needed? random sample selects unique elements (with no replacement)\n",
    "    var1 += random.sample(levels, 1) # var1.append(random.sample(levels, 1)) would also work\n",
    "print(var1) #visualize it in a bar chart"
   ]
  },
  {
   "cell_type": "code",
   "execution_count": 10,
   "metadata": {},
   "outputs": [
    {
     "name": "stdout",
     "output_type": "stream",
     "text": [
      "[96.00173033 69.95120499 99.98672926 22.00672998 36.1056354  73.98409902\n",
      " 99.64557251 31.63469778 13.65445798 38.39800102 32.05192836 36.64147531\n",
      " 70.96515626 90.01424305 53.41154392 24.72937649 67.18065626 56.17291073\n",
      " 54.25598767 89.34476037 84.27795496 30.60125899 63.11697775 68.02388604\n",
      " 97.04275604 89.35671519 94.24258614 64.22254812 61.46476338 22.76832544\n",
      " 48.6031869  80.72192994 84.42201535 53.46808662 75.77980499 49.96768861\n",
      " 85.03278966 61.96967754 86.16141791 23.16971966 40.22184146 62.43750622\n",
      " 14.30367059 12.27984836 41.68299108 55.68829821 94.14191754 40.92590225\n",
      " 73.67514494 99.54506744 91.66643492  0.20232726 97.13316932 88.90481767\n",
      " 69.94886062  9.75246685 57.34290389 82.00371163 56.08910506 35.07624607\n",
      " 54.34997561 87.95890917 11.40965649  3.14388054 95.28100604 28.87434744\n",
      " 44.19491709 25.90215323 59.68914437 65.5286046  27.56954606 85.79724579\n",
      " 88.87241464 28.50605911 65.95604191 97.21202594 79.68741126 17.94644012\n",
      " 78.46729779 97.01278886 36.2811769   8.78860648 34.38334237 57.11096457\n",
      " 16.55126825 63.16159389  6.55655353 91.28741912  8.86539792 19.93876783\n",
      " 47.1952698  44.09971802 76.55514267  1.27435337 68.06629642 27.56026399\n",
      " 60.39798213 54.59728462 20.97898106 13.61227537]\n"
     ]
    }
   ],
   "source": [
    "# Simulate var2\n",
    "np.random.seed(24) # optional: used to fix the seed of the pseudo-random number generator (use any number of your choice)\n",
    "var2 = np.random.uniform(0, 100, 100)\n",
    "print(var2) #histogram"
   ]
  },
  {
   "cell_type": "code",
   "execution_count": 4,
   "metadata": {},
   "outputs": [],
   "source": [
    "# Simulate table1\n",
    "table1 = pd.DataFrame(var1).value_counts(sort=True)\n",
    "table1 = table1.rename_axis(\"landuse\")\n",
    "table1 = table1.reset_index(name=\"Frequency\")"
   ]
  },
  {
   "cell_type": "code",
   "execution_count": 5,
   "metadata": {},
   "outputs": [],
   "source": [
    "# Simulate table2\n",
    "table2 = pd.DataFrame(list(zip(var1, var2)), columns = [\"landuse\", \"cover\"])\n",
    "\n",
    "# Note: The zip() function returns a zip object, which is an iterator of tuples where the first item in each passed iterator is paired together, and then the second item in each passed iterator are paired together, etc. The tuple() function displays a readable version of the result - try running: print(tuple(zip(var1,var2)))\n"
   ]
  },
  {
   "cell_type": "code",
   "execution_count": 6,
   "metadata": {},
   "outputs": [],
   "source": [
    "# Simulate table3\n",
    "np.random.seed(24) # optional: used to fix the seed of the pseudo-random number generator (use any number of your choice)\n",
    "year = list(range(1970,2021))\n",
    "temp = np.random.normal(17,2,51)\n",
    "table3 = pd.DataFrame(list(zip(year, temp)), columns = [\"Year\", \"Temperature\"])"
   ]
  },
  {
   "cell_type": "code",
   "execution_count": 7,
   "metadata": {},
   "outputs": [],
   "source": [
    "# Simulate table4\n",
    "xx = np.array([16,21])\n",
    "yy = np.array([300, 1200])\n",
    "means = [xx.mean(), yy.mean()]  \n",
    "stds = [xx.std() / 3, yy.std() / 3]\n",
    "corr = -0.7 # correlation\n",
    "covs = [[stds[0]**2          , stds[0]*stds[1]*corr], \n",
    "        [stds[0]*stds[1]*corr,           stds[1]**2]] # covariance matrix\n",
    "table4 = pd.DataFrame(np.random.multivariate_normal(means, covs, 100), columns = [\"Mean Anual Temperature\", \"Total Precipitation\"])\n"
   ]
  },
  {
   "cell_type": "code",
   "execution_count": 11,
   "metadata": {},
   "outputs": [
    {
     "name": "stdout",
     "output_type": "stream",
     "text": [
      "    Year               Landuse      Cover\n",
      "0   1900       Permanent crops  76.916261\n",
      "1   1900       Irrigated crops  47.458425\n",
      "2   1900        Managed Forest  51.911317\n",
      "3   1900        Natural Forest  94.419305\n",
      "4   1900  Agro-Forestry system  64.352536\n",
      "..   ...                   ...        ...\n",
      "83  2000        Natural Forest  91.823870\n",
      "84  2000  Agro-Forestry system  22.945058\n",
      "85  2000                 Urban  14.967991\n",
      "86  2000               Pasture  76.467999\n",
      "87  2000             Shrubland  32.994405\n",
      "\n",
      "[88 rows x 3 columns]\n"
     ]
    }
   ],
   "source": [
    "# Simulate table5\n",
    "col1 = pd.Series(list(range(1900,2010,10))).repeat(8)\n",
    "col2 = [\"Permanent crops\", \"Irrigated crops\", \"Managed Forest\", \"Natural Forest\", \"Agro-Forestry system\", \"Urban\", \"Pasture\", \"Shrubland\" ]*11\n",
    "col3 = np.random.uniform(0, 100, 90)\n",
    "table5 = pd.DataFrame(list(zip(col1, col2, col3)), columns = [\"Year\", \"Landuse\", \"Cover\"])\n",
    "print(table5)"
   ]
  }
 ],
 "metadata": {
  "kernelspec": {
   "display_name": "Python 3",
   "language": "python",
   "name": "python3"
  },
  "language_info": {
   "codemirror_mode": {
    "name": "ipython",
    "version": 3
   },
   "file_extension": ".py",
   "mimetype": "text/x-python",
   "name": "python",
   "nbconvert_exporter": "python",
   "pygments_lexer": "ipython3",
   "version": "3.11.2"
  },
  "orig_nbformat": 4,
  "vscode": {
   "interpreter": {
    "hash": "cf2957a4409907a9000a0c8980b6ab50678212d7d6225e5a1f0bdbca240746e7"
   }
  }
 },
 "nbformat": 4,
 "nbformat_minor": 2
}
